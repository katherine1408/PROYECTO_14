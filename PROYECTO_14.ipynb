{
 "cells": [
  {
   "cell_type": "markdown",
   "metadata": {},
   "source": [
    "# Descripción del proyecto\n",
    "\n",
    "La compañía Sweet Lift Taxi ha recopilado datos históricos sobre pedidos de taxis en los aeropuertos. Para atraer a más conductores durante las horas pico, necesitamos predecir la cantidad de pedidos de taxis para la próxima hora. Construye un modelo para dicha predicción.\n",
    "\n",
    "La métrica RECM en el conjunto de prueba no debe ser superior a 48.\n",
    "\n",
    "\n"
   ]
  },
  {
   "cell_type": "markdown",
   "metadata": {},
   "source": [
    "## Instrucciones del proyecto.\n",
    "\n",
    "1. Descarga los datos y haz el remuestreo por una hora.\n",
    "2. Analiza los datos\n",
    "3. Entrena diferentes modelos con diferentes hiperparámetros. La muestra de prueba debe ser el 10% del conjunto de datos inicial.4. Prueba los datos usando la muestra de prueba y proporciona una conclusión.\n"
   ]
  },
  {
   "cell_type": "markdown",
   "metadata": {},
   "source": [
    "### Inicialización:"
   ]
  },
  {
   "cell_type": "code",
   "execution_count": 1,
   "metadata": {},
   "outputs": [],
   "source": [
    "# Importamos librerías necesarias :\n",
    "\n",
    "import pandas as pd \n",
    "import numpy as np\n",
    "import matplotlib.pyplot as plt\n",
    "from statsmodels.tsa.seasonal import seasonal_decompose\n",
    "from sklearn.model_selection import train_test_split\n",
    "\n",
    "from sklearn.linear_model import LinearRegression\n",
    "from sklearn.tree import DecisionTreeRegressor\n",
    "from sklearn.ensemble import RandomForestRegressor\n",
    "import lightgbm as lgb\n",
    "from sklearn.metrics import mean_squared_error\n",
    "from sklearn.model_selection import GridSearchCV\n",
    "from sklearn.metrics import mean_squared_error\n"
   ]
  },
  {
   "cell_type": "markdown",
   "metadata": {},
   "source": [
    "## Descripción de los datos\n",
    "\n",
    "Los datos se almacenan en el archivo `taxi.csv`. \t\n",
    "El número de pedidos está en la columna `num_orders`."
   ]
  },
  {
   "cell_type": "code",
   "execution_count": 2,
   "metadata": {},
   "outputs": [],
   "source": [
    "data_taxi = pd.read_csv('taxi.csv')"
   ]
  },
  {
   "cell_type": "code",
   "execution_count": 3,
   "metadata": {},
   "outputs": [
    {
     "data": {
      "text/html": [
       "<div>\n",
       "<style scoped>\n",
       "    .dataframe tbody tr th:only-of-type {\n",
       "        vertical-align: middle;\n",
       "    }\n",
       "\n",
       "    .dataframe tbody tr th {\n",
       "        vertical-align: top;\n",
       "    }\n",
       "\n",
       "    .dataframe thead th {\n",
       "        text-align: right;\n",
       "    }\n",
       "</style>\n",
       "<table border=\"1\" class=\"dataframe\">\n",
       "  <thead>\n",
       "    <tr style=\"text-align: right;\">\n",
       "      <th></th>\n",
       "      <th>datetime</th>\n",
       "      <th>num_orders</th>\n",
       "    </tr>\n",
       "  </thead>\n",
       "  <tbody>\n",
       "    <tr>\n",
       "      <th>5769</th>\n",
       "      <td>2018-04-10 01:30:00</td>\n",
       "      <td>3</td>\n",
       "    </tr>\n",
       "    <tr>\n",
       "      <th>4259</th>\n",
       "      <td>2018-03-30 13:50:00</td>\n",
       "      <td>11</td>\n",
       "    </tr>\n",
       "    <tr>\n",
       "      <th>23089</th>\n",
       "      <td>2018-08-08 08:10:00</td>\n",
       "      <td>18</td>\n",
       "    </tr>\n",
       "    <tr>\n",
       "      <th>25018</th>\n",
       "      <td>2018-08-21 17:40:00</td>\n",
       "      <td>24</td>\n",
       "    </tr>\n",
       "    <tr>\n",
       "      <th>8384</th>\n",
       "      <td>2018-04-28 05:20:00</td>\n",
       "      <td>4</td>\n",
       "    </tr>\n",
       "    <tr>\n",
       "      <th>4617</th>\n",
       "      <td>2018-04-02 01:30:00</td>\n",
       "      <td>13</td>\n",
       "    </tr>\n",
       "    <tr>\n",
       "      <th>8521</th>\n",
       "      <td>2018-04-29 04:10:00</td>\n",
       "      <td>15</td>\n",
       "    </tr>\n",
       "    <tr>\n",
       "      <th>8919</th>\n",
       "      <td>2018-05-01 22:30:00</td>\n",
       "      <td>15</td>\n",
       "    </tr>\n",
       "    <tr>\n",
       "      <th>24131</th>\n",
       "      <td>2018-08-15 13:50:00</td>\n",
       "      <td>13</td>\n",
       "    </tr>\n",
       "    <tr>\n",
       "      <th>17871</th>\n",
       "      <td>2018-07-03 02:30:00</td>\n",
       "      <td>10</td>\n",
       "    </tr>\n",
       "  </tbody>\n",
       "</table>\n",
       "</div>"
      ],
      "text/plain": [
       "                  datetime  num_orders\n",
       "5769   2018-04-10 01:30:00           3\n",
       "4259   2018-03-30 13:50:00          11\n",
       "23089  2018-08-08 08:10:00          18\n",
       "25018  2018-08-21 17:40:00          24\n",
       "8384   2018-04-28 05:20:00           4\n",
       "4617   2018-04-02 01:30:00          13\n",
       "8521   2018-04-29 04:10:00          15\n",
       "8919   2018-05-01 22:30:00          15\n",
       "24131  2018-08-15 13:50:00          13\n",
       "17871  2018-07-03 02:30:00          10"
      ]
     },
     "metadata": {},
     "output_type": "display_data"
    }
   ],
   "source": [
    "display(data_taxi.sample(10))"
   ]
  },
  {
   "cell_type": "code",
   "execution_count": 4,
   "metadata": {},
   "outputs": [
    {
     "name": "stdout",
     "output_type": "stream",
     "text": [
      "<class 'pandas.core.frame.DataFrame'>\n",
      "RangeIndex: 26496 entries, 0 to 26495\n",
      "Data columns (total 2 columns):\n",
      " #   Column      Non-Null Count  Dtype \n",
      "---  ------      --------------  ----- \n",
      " 0   datetime    26496 non-null  object\n",
      " 1   num_orders  26496 non-null  int64 \n",
      "dtypes: int64(1), object(1)\n",
      "memory usage: 414.1+ KB\n"
     ]
    }
   ],
   "source": [
    "data_taxi.info()"
   ]
  },
  {
   "cell_type": "code",
   "execution_count": 5,
   "metadata": {},
   "outputs": [
    {
     "data": {
      "text/html": [
       "<div>\n",
       "<style scoped>\n",
       "    .dataframe tbody tr th:only-of-type {\n",
       "        vertical-align: middle;\n",
       "    }\n",
       "\n",
       "    .dataframe tbody tr th {\n",
       "        vertical-align: top;\n",
       "    }\n",
       "\n",
       "    .dataframe thead th {\n",
       "        text-align: right;\n",
       "    }\n",
       "</style>\n",
       "<table border=\"1\" class=\"dataframe\">\n",
       "  <thead>\n",
       "    <tr style=\"text-align: right;\">\n",
       "      <th></th>\n",
       "      <th>num_orders</th>\n",
       "    </tr>\n",
       "  </thead>\n",
       "  <tbody>\n",
       "    <tr>\n",
       "      <th>count</th>\n",
       "      <td>26496.000000</td>\n",
       "    </tr>\n",
       "    <tr>\n",
       "      <th>mean</th>\n",
       "      <td>14.070463</td>\n",
       "    </tr>\n",
       "    <tr>\n",
       "      <th>std</th>\n",
       "      <td>9.211330</td>\n",
       "    </tr>\n",
       "    <tr>\n",
       "      <th>min</th>\n",
       "      <td>0.000000</td>\n",
       "    </tr>\n",
       "    <tr>\n",
       "      <th>25%</th>\n",
       "      <td>8.000000</td>\n",
       "    </tr>\n",
       "    <tr>\n",
       "      <th>50%</th>\n",
       "      <td>13.000000</td>\n",
       "    </tr>\n",
       "    <tr>\n",
       "      <th>75%</th>\n",
       "      <td>19.000000</td>\n",
       "    </tr>\n",
       "    <tr>\n",
       "      <th>max</th>\n",
       "      <td>119.000000</td>\n",
       "    </tr>\n",
       "  </tbody>\n",
       "</table>\n",
       "</div>"
      ],
      "text/plain": [
       "         num_orders\n",
       "count  26496.000000\n",
       "mean      14.070463\n",
       "std        9.211330\n",
       "min        0.000000\n",
       "25%        8.000000\n",
       "50%       13.000000\n",
       "75%       19.000000\n",
       "max      119.000000"
      ]
     },
     "execution_count": 5,
     "metadata": {},
     "output_type": "execute_result"
    }
   ],
   "source": [
    "data_taxi.describe()"
   ]
  },
  {
   "cell_type": "markdown",
   "metadata": {},
   "source": [
    "## Preparación"
   ]
  },
  {
   "cell_type": "code",
   "execution_count": 6,
   "metadata": {},
   "outputs": [],
   "source": [
    "data_taxi.columns = data_taxi.columns.str.strip()"
   ]
  },
  {
   "cell_type": "code",
   "execution_count": 7,
   "metadata": {},
   "outputs": [],
   "source": [
    "data_taxi = data_taxi.rename(columns={'datetime': 'date_time'})"
   ]
  },
  {
   "cell_type": "code",
   "execution_count": 8,
   "metadata": {},
   "outputs": [
    {
     "name": "stdout",
     "output_type": "stream",
     "text": [
      "<class 'pandas.core.frame.DataFrame'>\n",
      "RangeIndex: 26496 entries, 0 to 26495\n",
      "Data columns (total 2 columns):\n",
      " #   Column      Non-Null Count  Dtype         \n",
      "---  ------      --------------  -----         \n",
      " 0   date_time   26496 non-null  datetime64[ns]\n",
      " 1   num_orders  26496 non-null  int64         \n",
      "dtypes: datetime64[ns](1), int64(1)\n",
      "memory usage: 414.1 KB\n"
     ]
    }
   ],
   "source": [
    "data_taxi['date_time'] = pd.to_datetime(data_taxi['date_time'])\n",
    "data_taxi.info()"
   ]
  },
  {
   "cell_type": "code",
   "execution_count": 9,
   "metadata": {},
   "outputs": [
    {
     "data": {
      "text/plain": [
       "date_time     0\n",
       "num_orders    0\n",
       "dtype: int64"
      ]
     },
     "execution_count": 9,
     "metadata": {},
     "output_type": "execute_result"
    }
   ],
   "source": [
    "data_taxi.isna().sum()"
   ]
  },
  {
   "cell_type": "code",
   "execution_count": 10,
   "metadata": {},
   "outputs": [
    {
     "data": {
      "text/plain": [
       "np.int64(0)"
      ]
     },
     "execution_count": 10,
     "metadata": {},
     "output_type": "execute_result"
    }
   ],
   "source": [
    "data_taxi.duplicated().sum()"
   ]
  },
  {
   "cell_type": "code",
   "execution_count": 11,
   "metadata": {},
   "outputs": [],
   "source": [
    "# Establecer la columna de fecha y hora como índice:\n",
    "\n",
    "data_taxi.set_index('date_time', inplace=True)"
   ]
  },
  {
   "cell_type": "code",
   "execution_count": 12,
   "metadata": {},
   "outputs": [
    {
     "name": "stderr",
     "output_type": "stream",
     "text": [
      "C:\\Users\\Home\\AppData\\Local\\Temp\\ipykernel_13228\\4216441296.py:3: FutureWarning: 'H' is deprecated and will be removed in a future version, please use 'h' instead.\n",
      "  data_horario = data_taxi.resample('1H').sum()\n"
     ]
    }
   ],
   "source": [
    "# Remuestrear datos por horas sumando los pedidos en intervalos de 1 hora:\n",
    "\n",
    "data_horario = data_taxi.resample('1H').sum()"
   ]
  },
  {
   "cell_type": "code",
   "execution_count": 13,
   "metadata": {},
   "outputs": [
    {
     "data": {
      "text/html": [
       "<div>\n",
       "<style scoped>\n",
       "    .dataframe tbody tr th:only-of-type {\n",
       "        vertical-align: middle;\n",
       "    }\n",
       "\n",
       "    .dataframe tbody tr th {\n",
       "        vertical-align: top;\n",
       "    }\n",
       "\n",
       "    .dataframe thead th {\n",
       "        text-align: right;\n",
       "    }\n",
       "</style>\n",
       "<table border=\"1\" class=\"dataframe\">\n",
       "  <thead>\n",
       "    <tr style=\"text-align: right;\">\n",
       "      <th></th>\n",
       "      <th>num_orders</th>\n",
       "    </tr>\n",
       "    <tr>\n",
       "      <th>date_time</th>\n",
       "      <th></th>\n",
       "    </tr>\n",
       "  </thead>\n",
       "  <tbody>\n",
       "    <tr>\n",
       "      <th>2018-03-01 00:00:00</th>\n",
       "      <td>124</td>\n",
       "    </tr>\n",
       "    <tr>\n",
       "      <th>2018-03-01 01:00:00</th>\n",
       "      <td>85</td>\n",
       "    </tr>\n",
       "    <tr>\n",
       "      <th>2018-03-01 02:00:00</th>\n",
       "      <td>71</td>\n",
       "    </tr>\n",
       "    <tr>\n",
       "      <th>2018-03-01 03:00:00</th>\n",
       "      <td>66</td>\n",
       "    </tr>\n",
       "    <tr>\n",
       "      <th>2018-03-01 04:00:00</th>\n",
       "      <td>43</td>\n",
       "    </tr>\n",
       "  </tbody>\n",
       "</table>\n",
       "</div>"
      ],
      "text/plain": [
       "                     num_orders\n",
       "date_time                      \n",
       "2018-03-01 00:00:00         124\n",
       "2018-03-01 01:00:00          85\n",
       "2018-03-01 02:00:00          71\n",
       "2018-03-01 03:00:00          66\n",
       "2018-03-01 04:00:00          43"
      ]
     },
     "execution_count": 13,
     "metadata": {},
     "output_type": "execute_result"
    }
   ],
   "source": [
    "# Mostrar las primeras filas de los datos horarios:\n",
    "\n",
    "data_horario.head()"
   ]
  },
  {
   "cell_type": "markdown",
   "metadata": {},
   "source": [
    "## Análisis"
   ]
  },
  {
   "cell_type": "code",
   "execution_count": 14,
   "metadata": {},
   "outputs": [
    {
     "data": {
      "image/png": "[encoded data removed]",
      "text/plain": [
       "<Figure size 1200x600 with 1 Axes>"
      ]
     },
     "metadata": {},
     "output_type": "display_data"
    }
   ],
   "source": [
    "\n",
    "plt.figure(figsize=(12, 6))\n",
    "plt.plot(data_horario.index, data_horario['num_orders'], label='Numero de ordenes')\n",
    "plt.title('Pedidos de taxi por horas a lo largo del tiempo')\n",
    "plt.xlabel('Tiempo')\n",
    "plt.ylabel('Numero de ordenes')\n",
    "plt.legend()\n",
    "plt.show()"
   ]
  },
  {
   "cell_type": "markdown",
   "metadata": {},
   "source": [
    "El gráfico muestra la evolución de los pedidos por hora, permitiendo identificar posibles patrones de tendencia o estacionalidad.\n"
   ]
  },
  {
   "cell_type": "code",
   "execution_count": 15,
   "metadata": {},
   "outputs": [
    {
     "data": {
      "image/png": "[encoded data removed]",
      "text/plain": [
       "<Figure size 600x800 with 3 Axes>"
      ]
     },
     "metadata": {},
     "output_type": "display_data"
    }
   ],
   "source": [
    "decomposed = seasonal_decompose(data_horario)\n",
    "\n",
    "plt.figure(figsize=(6, 8))\n",
    "plt.subplot(311)\n",
    "\n",
    "decomposed.trend.plot(ax=plt.gca())\n",
    "plt.title('TENDENCIA')\n",
    "plt.subplot(312)\n",
    "\n",
    "decomposed.seasonal.plot(ax=plt.gca())\n",
    "plt.title('ESTACIONALIDAD')\n",
    "plt.subplot(313)\n",
    "\n",
    "decomposed.resid.plot(ax=plt.gca())\n",
    "plt.title('RESIDUOS')\n",
    "plt.tight_layout()\n"
   ]
  },
  {
   "cell_type": "markdown",
   "metadata": {},
   "source": [
    "### Agregar columnas de análisis para identificar tendencias:"
   ]
  },
  {
   "cell_type": "code",
   "execution_count": 16,
   "metadata": {},
   "outputs": [],
   "source": [
    "# Agregar características de tiempo:\n",
    "\n",
    "data_horario['hour'] = data_horario.index.hour\n",
    "data_horario['day_of_week'] = data_horario.index.dayofweek # Día de la semana (0=Lunes, 6=Domingo)\n",
    "data_horario['day_of_month'] = data_horario.index.day\n",
    "data_horario['month'] = data_horario.index.month\n",
    "data_horario['is_weekend'] = data_horario['day_of_week'].isin([5, 6]).astype(int)"
   ]
  },
  {
   "cell_type": "markdown",
   "metadata": {},
   "source": [
    "#### Análisis promedio por hora del día:"
   ]
  },
  {
   "cell_type": "code",
   "execution_count": 17,
   "metadata": {},
   "outputs": [
    {
     "data": {
      "image/png": "[encoded data removed]",
      "text/plain": [
       "<Figure size 1200x600 with 1 Axes>"
      ]
     },
     "metadata": {},
     "output_type": "display_data"
    }
   ],
   "source": [
    "promedio_por_hora = data_horario.groupby('hour')['num_orders'].mean()\n",
    "\n",
    "plt.figure(figsize=(12, 6))\n",
    "plt.plot(promedio_por_hora.index, promedio_por_hora.values, marker='o', label='Pedidos promedio por hora del día')\n",
    "plt.title('Promedio de pedidos por hora del día', fontsize=16)\n",
    "plt.xlabel('Hora del día', fontsize=12)\n",
    "plt.ylabel('Número promedio de pedidos', fontsize=12)\n",
    "plt.grid()\n",
    "plt.xticks(range(0, 24))\n",
    "plt.legend()\n",
    "plt.show()\n"
   ]
  },
  {
   "cell_type": "code",
   "execution_count": 18,
   "metadata": {},
   "outputs": [
    {
     "name": "stdout",
     "output_type": "stream",
     "text": [
      "hour\n",
      "0     144.402174\n",
      "16    114.146739\n",
      "2     113.070652\n",
      "23    109.766304\n",
      "1     104.364130\n",
      "3     102.021739\n",
      "22     98.500000\n",
      "21     95.211957\n",
      "10     93.119565\n",
      "17     92.722826\n",
      "9      88.831522\n",
      "15     87.945652\n",
      "4      86.907609\n",
      "11     82.489130\n",
      "20     81.858696\n",
      "19     77.336957\n",
      "14     75.163043\n",
      "8      73.048913\n",
      "13     71.173913\n",
      "18     69.358696\n",
      "12     67.630435\n",
      "5      42.630435\n",
      "7      29.271739\n",
      "6      25.173913\n",
      "Name: num_orders, dtype: float64\n"
     ]
    }
   ],
   "source": [
    "print(promedio_por_hora.sort_values(ascending=False))"
   ]
  },
  {
   "cell_type": "markdown",
   "metadata": {},
   "source": [
    "**Análisis por hora del día:**  \n",
    "\n",
    "Mayor demanda: La hora con más pedidos es a las 0:00 (144.4 pedidos en promedio). \n",
    "\n",
    "Menor demanda: Los pedidos disminuyen notablemente entre las 6:00 y las 7:00 (25.2 pedidos en promedio)."
   ]
  },
  {
   "cell_type": "markdown",
   "metadata": {},
   "source": [
    "#### Análisis promedio por día de la semana:"
   ]
  },
  {
   "cell_type": "code",
   "execution_count": 19,
   "metadata": {},
   "outputs": [
    {
     "data": {
      "image/png": "[encoded data removed]",
      "text/plain": [
       "<Figure size 1200x600 with 1 Axes>"
      ]
     },
     "metadata": {},
     "output_type": "display_data"
    },
    {
     "name": "stdout",
     "output_type": "stream",
     "text": [
      "day_of_week\n",
      "4    91.140432\n",
      "0    90.246795\n",
      "3    85.660494\n",
      "5    83.847756\n",
      "2    83.754808\n",
      "6    78.991987\n",
      "1    77.011218\n",
      "Name: num_orders, dtype: float64\n"
     ]
    }
   ],
   "source": [
    "\n",
    "promedio_por_dia = data_horario.groupby('day_of_week')['num_orders'].mean()\n",
    "\n",
    "# Visualizar los promedios por día de la semana:\n",
    "\n",
    "plt.figure(figsize=(12, 6))\n",
    "plt.bar(promedio_por_dia.index, promedio_por_dia.values, tick_label=['Lun', 'Mar', 'Mié', 'Jue', 'Vie', 'Sáb', 'Dom'], color='skyblue')\n",
    "plt.title('Promedio de pedidos por día de la semana', fontsize=16)\n",
    "plt.xlabel('Día de la semana', fontsize=12)\n",
    "plt.ylabel('Número promedio de pedidos', fontsize=12)\n",
    "plt.grid(axis='y')\n",
    "plt.show()\n",
    "\n",
    "print(promedio_por_dia.sort_values(ascending=False))"
   ]
  },
  {
   "cell_type": "markdown",
   "metadata": {},
   "source": [
    "**Análisis por día de la semana:** \n",
    "\n",
    "Mayor demanda: El lunes (90.25 pedidos en promedio) tiene más actividad, posiblemente por el inicio de la semana.  \n",
    "\n",
    "Menor demanda: El domingo (78.99 pedidos en promedio) muestra una caída, probablemente debido a menor actividad general."
   ]
  },
  {
   "cell_type": "code",
   "execution_count": 20,
   "metadata": {},
   "outputs": [
    {
     "data": {
      "text/html": [
       "<div>\n",
       "<style scoped>\n",
       "    .dataframe tbody tr th:only-of-type {\n",
       "        vertical-align: middle;\n",
       "    }\n",
       "\n",
       "    .dataframe tbody tr th {\n",
       "        vertical-align: top;\n",
       "    }\n",
       "\n",
       "    .dataframe thead th {\n",
       "        text-align: right;\n",
       "    }\n",
       "</style>\n",
       "<table border=\"1\" class=\"dataframe\">\n",
       "  <thead>\n",
       "    <tr style=\"text-align: right;\">\n",
       "      <th></th>\n",
       "      <th>num_orders</th>\n",
       "      <th>hour</th>\n",
       "      <th>day_of_week</th>\n",
       "      <th>day_of_month</th>\n",
       "      <th>month</th>\n",
       "      <th>is_weekend</th>\n",
       "    </tr>\n",
       "    <tr>\n",
       "      <th>date_time</th>\n",
       "      <th></th>\n",
       "      <th></th>\n",
       "      <th></th>\n",
       "      <th></th>\n",
       "      <th></th>\n",
       "      <th></th>\n",
       "    </tr>\n",
       "  </thead>\n",
       "  <tbody>\n",
       "    <tr>\n",
       "      <th>2018-03-01 00:00:00</th>\n",
       "      <td>124</td>\n",
       "      <td>0</td>\n",
       "      <td>3</td>\n",
       "      <td>1</td>\n",
       "      <td>3</td>\n",
       "      <td>0</td>\n",
       "    </tr>\n",
       "    <tr>\n",
       "      <th>2018-03-01 01:00:00</th>\n",
       "      <td>85</td>\n",
       "      <td>1</td>\n",
       "      <td>3</td>\n",
       "      <td>1</td>\n",
       "      <td>3</td>\n",
       "      <td>0</td>\n",
       "    </tr>\n",
       "    <tr>\n",
       "      <th>2018-03-01 02:00:00</th>\n",
       "      <td>71</td>\n",
       "      <td>2</td>\n",
       "      <td>3</td>\n",
       "      <td>1</td>\n",
       "      <td>3</td>\n",
       "      <td>0</td>\n",
       "    </tr>\n",
       "    <tr>\n",
       "      <th>2018-03-01 03:00:00</th>\n",
       "      <td>66</td>\n",
       "      <td>3</td>\n",
       "      <td>3</td>\n",
       "      <td>1</td>\n",
       "      <td>3</td>\n",
       "      <td>0</td>\n",
       "    </tr>\n",
       "    <tr>\n",
       "      <th>2018-03-01 04:00:00</th>\n",
       "      <td>43</td>\n",
       "      <td>4</td>\n",
       "      <td>3</td>\n",
       "      <td>1</td>\n",
       "      <td>3</td>\n",
       "      <td>0</td>\n",
       "    </tr>\n",
       "    <tr>\n",
       "      <th>...</th>\n",
       "      <td>...</td>\n",
       "      <td>...</td>\n",
       "      <td>...</td>\n",
       "      <td>...</td>\n",
       "      <td>...</td>\n",
       "      <td>...</td>\n",
       "    </tr>\n",
       "    <tr>\n",
       "      <th>2018-08-31 19:00:00</th>\n",
       "      <td>136</td>\n",
       "      <td>19</td>\n",
       "      <td>4</td>\n",
       "      <td>31</td>\n",
       "      <td>8</td>\n",
       "      <td>0</td>\n",
       "    </tr>\n",
       "    <tr>\n",
       "      <th>2018-08-31 20:00:00</th>\n",
       "      <td>154</td>\n",
       "      <td>20</td>\n",
       "      <td>4</td>\n",
       "      <td>31</td>\n",
       "      <td>8</td>\n",
       "      <td>0</td>\n",
       "    </tr>\n",
       "    <tr>\n",
       "      <th>2018-08-31 21:00:00</th>\n",
       "      <td>159</td>\n",
       "      <td>21</td>\n",
       "      <td>4</td>\n",
       "      <td>31</td>\n",
       "      <td>8</td>\n",
       "      <td>0</td>\n",
       "    </tr>\n",
       "    <tr>\n",
       "      <th>2018-08-31 22:00:00</th>\n",
       "      <td>223</td>\n",
       "      <td>22</td>\n",
       "      <td>4</td>\n",
       "      <td>31</td>\n",
       "      <td>8</td>\n",
       "      <td>0</td>\n",
       "    </tr>\n",
       "    <tr>\n",
       "      <th>2018-08-31 23:00:00</th>\n",
       "      <td>205</td>\n",
       "      <td>23</td>\n",
       "      <td>4</td>\n",
       "      <td>31</td>\n",
       "      <td>8</td>\n",
       "      <td>0</td>\n",
       "    </tr>\n",
       "  </tbody>\n",
       "</table>\n",
       "<p>4416 rows × 6 columns</p>\n",
       "</div>"
      ],
      "text/plain": [
       "                     num_orders  hour  day_of_week  day_of_month  month  \\\n",
       "date_time                                                                 \n",
       "2018-03-01 00:00:00         124     0            3             1      3   \n",
       "2018-03-01 01:00:00          85     1            3             1      3   \n",
       "2018-03-01 02:00:00          71     2            3             1      3   \n",
       "2018-03-01 03:00:00          66     3            3             1      3   \n",
       "2018-03-01 04:00:00          43     4            3             1      3   \n",
       "...                         ...   ...          ...           ...    ...   \n",
       "2018-08-31 19:00:00         136    19            4            31      8   \n",
       "2018-08-31 20:00:00         154    20            4            31      8   \n",
       "2018-08-31 21:00:00         159    21            4            31      8   \n",
       "2018-08-31 22:00:00         223    22            4            31      8   \n",
       "2018-08-31 23:00:00         205    23            4            31      8   \n",
       "\n",
       "                     is_weekend  \n",
       "date_time                        \n",
       "2018-03-01 00:00:00           0  \n",
       "2018-03-01 01:00:00           0  \n",
       "2018-03-01 02:00:00           0  \n",
       "2018-03-01 03:00:00           0  \n",
       "2018-03-01 04:00:00           0  \n",
       "...                         ...  \n",
       "2018-08-31 19:00:00           0  \n",
       "2018-08-31 20:00:00           0  \n",
       "2018-08-31 21:00:00           0  \n",
       "2018-08-31 22:00:00           0  \n",
       "2018-08-31 23:00:00           0  \n",
       "\n",
       "[4416 rows x 6 columns]"
      ]
     },
     "execution_count": 20,
     "metadata": {},
     "output_type": "execute_result"
    }
   ],
   "source": [
    "data_horario"
   ]
  },
  {
   "cell_type": "markdown",
   "metadata": {},
   "source": [
    "## Formación"
   ]
  },
  {
   "cell_type": "code",
   "execution_count": 21,
   "metadata": {},
   "outputs": [],
   "source": [
    "# Crear características:\n",
    "\n",
    "\"\"\"\n",
    "    Agrega características de retraso (lags) y promedios móviles a un conjunto de datos.\n",
    "    \"\"\"\n",
    "\n",
    "def add_lag_and_rolling_features (data, max_lag,target_column='num_orders', rolling_windows=[3, 6, 12]):\n",
    "        \n",
    "    for lag in range(1, max_lag + 1):\n",
    "        data[f'lag_{lag}'] = data['num_orders'].shift(lag)\n",
    "        \n",
    "    #data[f'rolling_mean_{rolling_mean_size}'] = data['num_orders'].rolling(window=rolling_mean_size).mean()#\n",
    "    \n",
    "    for window in rolling_windows:\n",
    "        data[f'rolling_mean_{window}'] = data[target_column].rolling(window=window).mean()\n",
    "   \n",
    "    return data.dropna()\n",
    "\n",
    "# Aplicar la función con max_lag=5 y rolling_mean_size=10\n",
    "\n",
    "data_horario = add_lag_and_rolling_features(data_horario, target_column='num_orders', max_lag=5, rolling_windows=[3, 6, 12])\n"
   ]
  },
  {
   "cell_type": "code",
   "execution_count": 22,
   "metadata": {},
   "outputs": [
    {
     "data": {
      "text/html": [
       "<div>\n",
       "<style scoped>\n",
       "    .dataframe tbody tr th:only-of-type {\n",
       "        vertical-align: middle;\n",
       "    }\n",
       "\n",
       "    .dataframe tbody tr th {\n",
       "        vertical-align: top;\n",
       "    }\n",
       "\n",
       "    .dataframe thead th {\n",
       "        text-align: right;\n",
       "    }\n",
       "</style>\n",
       "<table border=\"1\" class=\"dataframe\">\n",
       "  <thead>\n",
       "    <tr style=\"text-align: right;\">\n",
       "      <th></th>\n",
       "      <th>num_orders</th>\n",
       "      <th>hour</th>\n",
       "      <th>day_of_week</th>\n",
       "      <th>day_of_month</th>\n",
       "      <th>month</th>\n",
       "      <th>is_weekend</th>\n",
       "      <th>lag_1</th>\n",
       "      <th>lag_2</th>\n",
       "      <th>lag_3</th>\n",
       "      <th>lag_4</th>\n",
       "      <th>lag_5</th>\n",
       "      <th>rolling_mean_3</th>\n",
       "      <th>rolling_mean_6</th>\n",
       "      <th>rolling_mean_12</th>\n",
       "    </tr>\n",
       "    <tr>\n",
       "      <th>date_time</th>\n",
       "      <th></th>\n",
       "      <th></th>\n",
       "      <th></th>\n",
       "      <th></th>\n",
       "      <th></th>\n",
       "      <th></th>\n",
       "      <th></th>\n",
       "      <th></th>\n",
       "      <th></th>\n",
       "      <th></th>\n",
       "      <th></th>\n",
       "      <th></th>\n",
       "      <th></th>\n",
       "      <th></th>\n",
       "    </tr>\n",
       "  </thead>\n",
       "  <tbody>\n",
       "    <tr>\n",
       "      <th>2018-03-01 11:00:00</th>\n",
       "      <td>96</td>\n",
       "      <td>11</td>\n",
       "      <td>3</td>\n",
       "      <td>1</td>\n",
       "      <td>3</td>\n",
       "      <td>0</td>\n",
       "      <td>64.0</td>\n",
       "      <td>69.0</td>\n",
       "      <td>34.0</td>\n",
       "      <td>15.0</td>\n",
       "      <td>12.0</td>\n",
       "      <td>76.333333</td>\n",
       "      <td>48.333333</td>\n",
       "      <td>57.083333</td>\n",
       "    </tr>\n",
       "    <tr>\n",
       "      <th>2018-03-01 12:00:00</th>\n",
       "      <td>30</td>\n",
       "      <td>12</td>\n",
       "      <td>3</td>\n",
       "      <td>1</td>\n",
       "      <td>3</td>\n",
       "      <td>0</td>\n",
       "      <td>96.0</td>\n",
       "      <td>64.0</td>\n",
       "      <td>69.0</td>\n",
       "      <td>34.0</td>\n",
       "      <td>15.0</td>\n",
       "      <td>63.333333</td>\n",
       "      <td>51.333333</td>\n",
       "      <td>49.250000</td>\n",
       "    </tr>\n",
       "    <tr>\n",
       "      <th>2018-03-01 13:00:00</th>\n",
       "      <td>32</td>\n",
       "      <td>13</td>\n",
       "      <td>3</td>\n",
       "      <td>1</td>\n",
       "      <td>3</td>\n",
       "      <td>0</td>\n",
       "      <td>30.0</td>\n",
       "      <td>96.0</td>\n",
       "      <td>64.0</td>\n",
       "      <td>69.0</td>\n",
       "      <td>34.0</td>\n",
       "      <td>52.666667</td>\n",
       "      <td>54.166667</td>\n",
       "      <td>44.833333</td>\n",
       "    </tr>\n",
       "    <tr>\n",
       "      <th>2018-03-01 14:00:00</th>\n",
       "      <td>48</td>\n",
       "      <td>14</td>\n",
       "      <td>3</td>\n",
       "      <td>1</td>\n",
       "      <td>3</td>\n",
       "      <td>0</td>\n",
       "      <td>32.0</td>\n",
       "      <td>30.0</td>\n",
       "      <td>96.0</td>\n",
       "      <td>64.0</td>\n",
       "      <td>69.0</td>\n",
       "      <td>36.666667</td>\n",
       "      <td>56.500000</td>\n",
       "      <td>42.916667</td>\n",
       "    </tr>\n",
       "    <tr>\n",
       "      <th>2018-03-01 15:00:00</th>\n",
       "      <td>66</td>\n",
       "      <td>15</td>\n",
       "      <td>3</td>\n",
       "      <td>1</td>\n",
       "      <td>3</td>\n",
       "      <td>0</td>\n",
       "      <td>48.0</td>\n",
       "      <td>32.0</td>\n",
       "      <td>30.0</td>\n",
       "      <td>96.0</td>\n",
       "      <td>64.0</td>\n",
       "      <td>48.666667</td>\n",
       "      <td>56.000000</td>\n",
       "      <td>42.916667</td>\n",
       "    </tr>\n",
       "  </tbody>\n",
       "</table>\n",
       "</div>"
      ],
      "text/plain": [
       "                     num_orders  hour  day_of_week  day_of_month  month  \\\n",
       "date_time                                                                 \n",
       "2018-03-01 11:00:00          96    11            3             1      3   \n",
       "2018-03-01 12:00:00          30    12            3             1      3   \n",
       "2018-03-01 13:00:00          32    13            3             1      3   \n",
       "2018-03-01 14:00:00          48    14            3             1      3   \n",
       "2018-03-01 15:00:00          66    15            3             1      3   \n",
       "\n",
       "                     is_weekend  lag_1  lag_2  lag_3  lag_4  lag_5  \\\n",
       "date_time                                                            \n",
       "2018-03-01 11:00:00           0   64.0   69.0   34.0   15.0   12.0   \n",
       "2018-03-01 12:00:00           0   96.0   64.0   69.0   34.0   15.0   \n",
       "2018-03-01 13:00:00           0   30.0   96.0   64.0   69.0   34.0   \n",
       "2018-03-01 14:00:00           0   32.0   30.0   96.0   64.0   69.0   \n",
       "2018-03-01 15:00:00           0   48.0   32.0   30.0   96.0   64.0   \n",
       "\n",
       "                     rolling_mean_3  rolling_mean_6  rolling_mean_12  \n",
       "date_time                                                             \n",
       "2018-03-01 11:00:00       76.333333       48.333333        57.083333  \n",
       "2018-03-01 12:00:00       63.333333       51.333333        49.250000  \n",
       "2018-03-01 13:00:00       52.666667       54.166667        44.833333  \n",
       "2018-03-01 14:00:00       36.666667       56.500000        42.916667  \n",
       "2018-03-01 15:00:00       48.666667       56.000000        42.916667  "
      ]
     },
     "execution_count": 22,
     "metadata": {},
     "output_type": "execute_result"
    }
   ],
   "source": [
    "data_horario.head()"
   ]
  },
  {
   "cell_type": "code",
   "execution_count": 23,
   "metadata": {},
   "outputs": [
    {
     "data": {
      "image/png": "[encoded data removed]",
      "text/plain": [
       "<Figure size 1200x600 with 1 Axes>"
      ]
     },
     "metadata": {},
     "output_type": "display_data"
    }
   ],
   "source": [
    "# Visualización de las características agregadas\n",
    "plt.figure(figsize=(12, 6))\n",
    "plt.plot(data_horario.index, data_horario['num_orders'], label='Número de órdenes')\n",
    "plt.plot(data_horario.index, data_horario['rolling_mean_12'], label='Tendencia (Promedio móvil 12h)', color='red')\n",
    "plt.title('Pedidos de taxi con características de tendencia')\n",
    "plt.xlabel('Fecha')\n",
    "plt.ylabel('Número de órdenes')\n",
    "plt.legend()\n",
    "plt.grid(True)\n",
    "plt.show()"
   ]
  },
  {
   "cell_type": "code",
   "execution_count": 24,
   "metadata": {},
   "outputs": [],
   "source": [
    "# Dividir en características (X) y objetivo (y):\n",
    "\n",
    "X = data_horario.drop('num_orders', axis=1)\n",
    "\n",
    "y = data_horario['num_orders']"
   ]
  },
  {
   "cell_type": "code",
   "execution_count": 25,
   "metadata": {},
   "outputs": [
    {
     "name": "stdout",
     "output_type": "stream",
     "text": [
      "X_train: (3171, 13), X_val: (793, 13), X_test: (441, 13)\n",
      "y_train: (3171,), y_val: (793,), y_test: (441,)\n"
     ]
    }
   ],
   "source": [
    "# Dividir en conjuntos de prueba (10%) y entrenamiento-validación (90%)\n",
    "\n",
    "X_train_val, X_test, y_train_val, y_test = train_test_split(X, y, test_size=0.1, random_state=42, shuffle=False)\n",
    "\n",
    "# Dividir entrenamiento-validación en entrenamiento (80%) y validación (20%)\n",
    "\n",
    "X_train, X_val, y_train, y_val = train_test_split(X_train_val, y_train_val, test_size=0.2, random_state=42, shuffle=False)\n",
    "\n",
    "# Mostrar dimensiones de los conjuntos\n",
    "print(f\"X_train: {X_train.shape}, X_val: {X_val.shape}, X_test: {X_test.shape}\")\n",
    "print(f\"y_train: {y_train.shape}, y_val: {y_val.shape}, y_test: {y_test.shape}\")"
   ]
  },
  {
   "cell_type": "code",
   "execution_count": 26,
   "metadata": {},
   "outputs": [],
   "source": [
    "from sklearn.preprocessing import StandardScaler\n",
    "\n",
    "scaler = StandardScaler()\n",
    "X_train_scaled = scaler.fit_transform(X_train)\n",
    "X_val_scaled = scaler.transform(X_val)\n",
    "X_test_scaled = scaler.transform(X_test)"
   ]
  },
  {
   "cell_type": "markdown",
   "metadata": {},
   "source": [
    "## Prueba"
   ]
  },
  {
   "cell_type": "code",
   "execution_count": 27,
   "metadata": {},
   "outputs": [
    {
     "name": "stdout",
     "output_type": "stream",
     "text": [
      "Decision Tree: RMSE en validación = 51.33\n",
      "Random Forest: RMSE en validación = 41.85\n",
      "[LightGBM] [Info] Auto-choosing row-wise multi-threading, the overhead of testing was 0.000990 seconds.\n",
      "You can set `force_row_wise=true` to remove the overhead.\n",
      "And if memory is not enough, you can set `force_col_wise=true`.\n",
      "[LightGBM] [Info] Total Bins 1681\n",
      "[LightGBM] [Info] Number of data points in the train set: 3171, number of used features: 13\n",
      "[LightGBM] [Info] Start training from score 71.333964\n",
      "LightGBM: RMSE en validación = 42.75\n",
      "El mejor modelo es Random Forest con RMSE = 41.85\n"
     ]
    }
   ],
   "source": [
    "\n",
    "# Modelos básicos:\n",
    "\n",
    "#model_lr = LinearRegression()\n",
    "model_dt = DecisionTreeRegressor(random_state=42)\n",
    "model_rf = RandomForestRegressor(random_state=42, n_estimators=100)\n",
    "model_lgb = lgb.LGBMRegressor(random_state=42, n_estimators=100)\n",
    "\n",
    "# Entrenar y evaluar los modelos en validación\n",
    "\n",
    "models = {\n",
    "      #'Linear Regression': model_lr,\n",
    "    'Decision Tree': model_dt,\n",
    "    'Random Forest': model_rf,\n",
    "    'LightGBM': model_lgb\n",
    "}\n",
    "\n",
    "rmse_scores = {}\n",
    "\n",
    "for name, model in models.items():\n",
    "    # Entrenar el modelo\n",
    "    model.fit(X_train, y_train)\n",
    "    # Predicción en validación\n",
    "    y_pred = model.predict(X_test)\n",
    "    # Calcular RMSE\n",
    "    rmse = np.sqrt(mean_squared_error(y_test, y_pred))\n",
    "    rmse_scores[name] = rmse\n",
    "    print(f\"{name}: RMSE en validación = {rmse:.2f}\")\n",
    "\n",
    "# Identificar el mejor modelo\n",
    "best_model_name = min(rmse_scores, key=rmse_scores.get)\n",
    "\n",
    "print(f\"El mejor modelo es {best_model_name} con RMSE = {rmse_scores[best_model_name]:.2f}\")\n"
   ]
  },
  {
   "cell_type": "code",
   "execution_count": 28,
   "metadata": {},
   "outputs": [
    {
     "name": "stdout",
     "output_type": "stream",
     "text": [
      "RMSE en el conjunto de prueba: 42.75\n",
      "El modelo cumple con el objetivo de RMSE ≤ 48.\n"
     ]
    }
   ],
   "source": [
    "# Probar el modelo optimizado (ejemplo con LightGBM):\n",
    "\n",
    "y_pred_test = model_lgb.predict(X_test)\n",
    "rmse_test = np.sqrt(mean_squared_error(y_test, y_pred_test))\n",
    "\n",
    "print(f\"RMSE en el conjunto de prueba: {rmse_test:.2f}\")\n",
    "if rmse_test <= 48:\n",
    "    print(\"El modelo cumple con el objetivo de RMSE ≤ 48.\")\n",
    "else:\n",
    "    print(\"El modelo NO cumple con el objetivo de RMSE ≤ 48.\")"
   ]
  },
  {
   "cell_type": "markdown",
   "metadata": {},
   "source": [
    "\n",
    "\n"
   ]
  },
  {
   "cell_type": "markdown",
   "metadata": {},
   "source": [
    "#  Conclusion"
   ]
  },
  {
   "cell_type": "markdown",
   "metadata": {},
   "source": [
    "El objetivo del proyecto era predecir la cantidad de pedidos de taxis para la próxima hora utilizando datos históricos de pedidos de la compañía Sweet Lift Taxi. El modelo debía cumplir con la métrica de desempeño definida: una raíz del error cuadrático medio (RMSE) no mayor a 48 en el conjunto de prueba."
   ]
  },
  {
   "cell_type": "markdown",
   "metadata": {},
   "source": [
    "# Lista de revisión"
   ]
  },
  {
   "cell_type": "markdown",
   "metadata": {},
   "source": [
    "- [x]  \t\n",
    "Jupyter Notebook está abierto.\n",
    "- [ ]  El código no tiene errores\n",
    "- [ ]  Las celdas con el código han sido colocadas en el orden de ejecución.\n",
    "- [ ]  \t\n",
    "Los datos han sido descargados y preparados.\n",
    "- [ ]  Se ha realizado el paso 2: los datos han sido analizados\n",
    "- [ ]  Se entrenó el modelo y se seleccionaron los hiperparámetros\n",
    "- [ ]  Se han evaluado los modelos. Se expuso una conclusión\n",
    "- [ ] La *RECM* para el conjunto de prueba no es más de 48"
   ]
  },
  {
   "cell_type": "code",
   "execution_count": null,
   "metadata": {},
   "outputs": [],
   "source": []
  }
 ],
 "metadata": {
  "ExecuteTimeLog": [
   {
    "duration": 8,
    "start_time": "2024-12-05T02:43:20.229Z"
   },
   {
    "duration": 164,
    "start_time": "2024-12-05T03:22:25.569Z"
   },
   {
    "duration": 292,
    "start_time": "2024-12-05T03:22:32.065Z"
   },
   {
    "duration": 365,
    "start_time": "2024-12-05T03:22:35.925Z"
   },
   {
    "duration": 26,
    "start_time": "2024-12-05T03:23:09.327Z"
   },
   {
    "duration": 9,
    "start_time": "2024-12-05T03:24:23.464Z"
   },
   {
    "duration": 8,
    "start_time": "2024-12-05T03:25:40.441Z"
   },
   {
    "duration": 6,
    "start_time": "2024-12-05T03:33:32.622Z"
   },
   {
    "duration": 10,
    "start_time": "2024-12-05T03:33:42.944Z"
   },
   {
    "duration": 10,
    "start_time": "2024-12-05T03:34:14.914Z"
   },
   {
    "duration": 11,
    "start_time": "2024-12-05T03:48:36.888Z"
   },
   {
    "duration": 9,
    "start_time": "2024-12-05T03:48:57.195Z"
   },
   {
    "duration": 6,
    "start_time": "2024-12-05T03:51:10.720Z"
   },
   {
    "duration": 7,
    "start_time": "2024-12-05T03:51:26.570Z"
   },
   {
    "duration": 1808,
    "start_time": "2024-12-05T03:53:18.585Z"
   },
   {
    "duration": 2,
    "start_time": "2024-12-05T03:55:31.311Z"
   },
   {
    "duration": 3,
    "start_time": "2024-12-05T03:55:54.291Z"
   },
   {
    "duration": 219,
    "start_time": "2024-12-05T03:56:21.710Z"
   },
   {
    "duration": 22,
    "start_time": "2024-12-05T03:57:05.376Z"
   },
   {
    "duration": 22,
    "start_time": "2024-12-05T03:57:12.956Z"
   },
   {
    "duration": 3,
    "start_time": "2024-12-05T04:00:34.692Z"
   },
   {
    "duration": 3,
    "start_time": "2024-12-05T04:01:48.268Z"
   },
   {
    "duration": 3,
    "start_time": "2024-12-05T04:03:52.540Z"
   },
   {
    "duration": 200,
    "start_time": "2024-12-05T04:03:59.234Z"
   },
   {
    "duration": 3,
    "start_time": "2024-12-05T04:04:47.913Z"
   },
   {
    "duration": 3,
    "start_time": "2024-12-05T04:05:06.419Z"
   },
   {
    "duration": 3,
    "start_time": "2024-12-05T04:07:30.919Z"
   },
   {
    "duration": 4,
    "start_time": "2024-12-05T04:07:42.806Z"
   },
   {
    "duration": 11,
    "start_time": "2024-12-05T04:08:05.924Z"
   },
   {
    "duration": 3,
    "start_time": "2024-12-05T04:08:32.882Z"
   },
   {
    "duration": 4,
    "start_time": "2024-12-05T04:11:48.193Z"
   },
   {
    "duration": 2,
    "start_time": "2024-12-05T04:12:52.227Z"
   },
   {
    "duration": 2,
    "start_time": "2024-12-05T04:13:11.486Z"
   },
   {
    "duration": 2,
    "start_time": "2024-12-05T04:13:37.994Z"
   },
   {
    "duration": 9,
    "start_time": "2024-12-05T04:15:55.620Z"
   },
   {
    "duration": 3,
    "start_time": "2024-12-05T04:17:02.412Z"
   },
   {
    "duration": 10,
    "start_time": "2024-12-05T04:17:15.826Z"
   },
   {
    "duration": 4,
    "start_time": "2024-12-05T04:17:19.885Z"
   },
   {
    "duration": 3,
    "start_time": "2024-12-05T04:17:37.050Z"
   },
   {
    "duration": 450,
    "start_time": "2024-12-05T04:18:06.987Z"
   },
   {
    "duration": 55,
    "start_time": "2024-12-05T04:18:07.439Z"
   },
   {
    "duration": 9,
    "start_time": "2024-12-05T04:18:07.496Z"
   },
   {
    "duration": 10,
    "start_time": "2024-12-05T04:18:07.507Z"
   },
   {
    "duration": 11,
    "start_time": "2024-12-05T04:18:07.520Z"
   },
   {
    "duration": 2,
    "start_time": "2024-12-05T04:18:07.534Z"
   },
   {
    "duration": 4,
    "start_time": "2024-12-05T04:18:07.538Z"
   },
   {
    "duration": 28,
    "start_time": "2024-12-05T04:18:07.544Z"
   },
   {
    "duration": 12,
    "start_time": "2024-12-05T04:18:07.574Z"
   },
   {
    "duration": 6,
    "start_time": "2024-12-05T04:18:07.587Z"
   },
   {
    "duration": 4,
    "start_time": "2024-12-05T04:18:07.594Z"
   },
   {
    "duration": 2,
    "start_time": "2024-12-05T04:18:07.600Z"
   },
   {
    "duration": 3,
    "start_time": "2024-12-05T04:18:07.605Z"
   },
   {
    "duration": 621,
    "start_time": "2024-12-05T04:18:07.611Z"
   },
   {
    "duration": 0,
    "start_time": "2024-12-05T04:18:08.234Z"
   },
   {
    "duration": 0,
    "start_time": "2024-12-05T04:18:08.235Z"
   },
   {
    "duration": 0,
    "start_time": "2024-12-05T04:18:08.236Z"
   },
   {
    "duration": 0,
    "start_time": "2024-12-05T04:18:08.236Z"
   },
   {
    "duration": 0,
    "start_time": "2024-12-05T04:18:08.237Z"
   },
   {
    "duration": 0,
    "start_time": "2024-12-05T04:18:08.238Z"
   },
   {
    "duration": 10,
    "start_time": "2024-12-05T04:19:12.392Z"
   },
   {
    "duration": 3,
    "start_time": "2024-12-05T04:19:41.103Z"
   },
   {
    "duration": 5,
    "start_time": "2024-12-05T04:20:05.467Z"
   },
   {
    "duration": 7,
    "start_time": "2024-12-05T04:20:08.082Z"
   },
   {
    "duration": 12,
    "start_time": "2024-12-05T04:20:54.763Z"
   },
   {
    "duration": 374,
    "start_time": "2024-12-05T04:21:06.606Z"
   },
   {
    "duration": 22,
    "start_time": "2024-12-05T04:22:01.165Z"
   },
   {
    "duration": 27,
    "start_time": "2024-12-05T04:22:03.917Z"
   },
   {
    "duration": 3,
    "start_time": "2024-12-05T04:22:19.803Z"
   },
   {
    "duration": 5,
    "start_time": "2024-12-05T04:22:25.501Z"
   },
   {
    "duration": 6,
    "start_time": "2024-12-05T04:22:49.619Z"
   },
   {
    "duration": 179,
    "start_time": "2024-12-05T04:23:35.921Z"
   },
   {
    "duration": 155,
    "start_time": "2024-12-12T01:07:59.044Z"
   },
   {
    "duration": 2106,
    "start_time": "2024-12-12T01:08:12.007Z"
   },
   {
    "duration": 29,
    "start_time": "2024-12-12T01:08:14.116Z"
   },
   {
    "duration": 11,
    "start_time": "2024-12-12T01:08:14.147Z"
   },
   {
    "duration": 10,
    "start_time": "2024-12-12T01:08:14.160Z"
   },
   {
    "duration": 10,
    "start_time": "2024-12-12T01:08:14.173Z"
   },
   {
    "duration": 3,
    "start_time": "2024-12-12T01:08:14.185Z"
   },
   {
    "duration": 24,
    "start_time": "2024-12-12T01:08:14.190Z"
   },
   {
    "duration": 8,
    "start_time": "2024-12-12T01:08:14.215Z"
   },
   {
    "duration": 5,
    "start_time": "2024-12-12T01:08:14.224Z"
   },
   {
    "duration": 7,
    "start_time": "2024-12-12T01:08:14.231Z"
   },
   {
    "duration": 3,
    "start_time": "2024-12-12T01:08:14.239Z"
   },
   {
    "duration": 6,
    "start_time": "2024-12-12T01:08:14.244Z"
   },
   {
    "duration": 5,
    "start_time": "2024-12-12T01:08:14.252Z"
   },
   {
    "duration": 232,
    "start_time": "2024-12-12T01:08:14.260Z"
   },
   {
    "duration": 455,
    "start_time": "2024-12-12T04:44:18.581Z"
   },
   {
    "duration": 14,
    "start_time": "2024-12-12T04:44:41.047Z"
   },
   {
    "duration": 459,
    "start_time": "2024-12-12T04:44:43.885Z"
   },
   {
    "duration": 59933,
    "start_time": "2024-12-12T04:44:56.914Z"
   },
   {
    "duration": 2594,
    "start_time": "2024-12-14T22:34:46.417Z"
   },
   {
    "duration": 3,
    "start_time": "2024-12-14T22:34:51.793Z"
   },
   {
    "duration": 3,
    "start_time": "2024-12-14T22:34:58.898Z"
   },
   {
    "duration": 224,
    "start_time": "2024-12-14T22:38:26.599Z"
   },
   {
    "duration": 787,
    "start_time": "2024-12-14T22:38:37.091Z"
   },
   {
    "duration": 25,
    "start_time": "2024-12-14T22:38:37.881Z"
   },
   {
    "duration": 11,
    "start_time": "2024-12-14T22:38:37.908Z"
   },
   {
    "duration": 9,
    "start_time": "2024-12-14T22:38:37.921Z"
   },
   {
    "duration": 12,
    "start_time": "2024-12-14T22:38:37.933Z"
   },
   {
    "duration": 4,
    "start_time": "2024-12-14T22:38:37.946Z"
   },
   {
    "duration": 3,
    "start_time": "2024-12-14T22:38:37.952Z"
   },
   {
    "duration": 7,
    "start_time": "2024-12-14T22:38:37.957Z"
   },
   {
    "duration": 5,
    "start_time": "2024-12-14T22:38:37.968Z"
   },
   {
    "duration": 40,
    "start_time": "2024-12-14T22:38:37.974Z"
   },
   {
    "duration": 3,
    "start_time": "2024-12-14T22:38:38.016Z"
   },
   {
    "duration": 8,
    "start_time": "2024-12-14T22:38:38.020Z"
   },
   {
    "duration": 5,
    "start_time": "2024-12-14T22:38:38.029Z"
   },
   {
    "duration": 224,
    "start_time": "2024-12-14T22:38:38.037Z"
   },
   {
    "duration": 9,
    "start_time": "2024-12-14T22:38:38.263Z"
   },
   {
    "duration": 180,
    "start_time": "2024-12-14T22:38:38.274Z"
   },
   {
    "duration": 60042,
    "start_time": "2024-12-14T22:38:38.456Z"
   },
   {
    "duration": 14,
    "start_time": "2024-12-14T22:40:21.037Z"
   },
   {
    "duration": 230,
    "start_time": "2024-12-14T23:06:05.461Z"
   },
   {
    "duration": 590,
    "start_time": "2024-12-14T23:06:30.218Z"
   },
   {
    "duration": 58,
    "start_time": "2024-12-14T23:08:06.163Z"
   },
   {
    "duration": 79,
    "start_time": "2024-12-14T23:10:59.244Z"
   },
   {
    "duration": 94,
    "start_time": "2024-12-14T23:14:07.768Z"
   },
   {
    "duration": 787,
    "start_time": "2024-12-14T23:14:52.248Z"
   },
   {
    "duration": 16,
    "start_time": "2024-12-14T23:14:53.037Z"
   },
   {
    "duration": 9,
    "start_time": "2024-12-14T23:14:53.055Z"
   },
   {
    "duration": 9,
    "start_time": "2024-12-14T23:14:53.066Z"
   },
   {
    "duration": 32,
    "start_time": "2024-12-14T23:14:53.077Z"
   },
   {
    "duration": 3,
    "start_time": "2024-12-14T23:14:53.111Z"
   },
   {
    "duration": 3,
    "start_time": "2024-12-14T23:14:53.116Z"
   },
   {
    "duration": 12,
    "start_time": "2024-12-14T23:14:53.121Z"
   },
   {
    "duration": 4,
    "start_time": "2024-12-14T23:14:53.135Z"
   },
   {
    "duration": 6,
    "start_time": "2024-12-14T23:14:53.141Z"
   },
   {
    "duration": 3,
    "start_time": "2024-12-14T23:14:53.149Z"
   },
   {
    "duration": 6,
    "start_time": "2024-12-14T23:14:53.154Z"
   },
   {
    "duration": 5,
    "start_time": "2024-12-14T23:14:53.161Z"
   },
   {
    "duration": 198,
    "start_time": "2024-12-14T23:14:53.211Z"
   },
   {
    "duration": 634,
    "start_time": "2024-12-14T23:14:53.411Z"
   },
   {
    "duration": 8,
    "start_time": "2024-12-14T23:14:54.047Z"
   },
   {
    "duration": 142,
    "start_time": "2024-12-14T23:14:54.057Z"
   },
   {
    "duration": 59926,
    "start_time": "2024-12-14T23:14:54.201Z"
   },
   {
    "duration": 5,
    "start_time": "2024-12-15T01:43:17.278Z"
   },
   {
    "duration": 7,
    "start_time": "2024-12-15T01:45:03.478Z"
   },
   {
    "duration": 6,
    "start_time": "2024-12-15T01:45:06.124Z"
   },
   {
    "duration": 171,
    "start_time": "2024-12-15T01:45:24.374Z"
   },
   {
    "duration": 9,
    "start_time": "2024-12-15T01:46:25.163Z"
   },
   {
    "duration": 7,
    "start_time": "2024-12-15T01:47:38.158Z"
   },
   {
    "duration": 199,
    "start_time": "2024-12-15T01:48:00.291Z"
   },
   {
    "duration": 5,
    "start_time": "2024-12-15T01:52:40.711Z"
   },
   {
    "duration": 8,
    "start_time": "2024-12-15T01:52:48.670Z"
   },
   {
    "duration": 122,
    "start_time": "2024-12-15T01:53:58.677Z"
   },
   {
    "duration": 9,
    "start_time": "2024-12-15T01:55:47.656Z"
   },
   {
    "duration": 10,
    "start_time": "2024-12-15T01:56:50.444Z"
   },
   {
    "duration": 9,
    "start_time": "2024-12-15T01:57:25.120Z"
   },
   {
    "duration": 10,
    "start_time": "2024-12-15T01:57:49.237Z"
   },
   {
    "duration": 8,
    "start_time": "2024-12-15T03:38:25.773Z"
   },
   {
    "duration": 8,
    "start_time": "2024-12-15T03:38:39.682Z"
   },
   {
    "duration": 3,
    "start_time": "2024-12-15T04:13:16.795Z"
   },
   {
    "duration": 798,
    "start_time": "2024-12-15T04:18:19.212Z"
   },
   {
    "duration": 19,
    "start_time": "2024-12-15T04:18:44.569Z"
   },
   {
    "duration": 992,
    "start_time": "2024-12-15T04:19:01.418Z"
   },
   {
    "duration": 18,
    "start_time": "2024-12-15T04:19:02.412Z"
   },
   {
    "duration": 11,
    "start_time": "2024-12-15T04:19:02.432Z"
   },
   {
    "duration": 10,
    "start_time": "2024-12-15T04:19:02.446Z"
   },
   {
    "duration": 11,
    "start_time": "2024-12-15T04:19:02.458Z"
   },
   {
    "duration": 3,
    "start_time": "2024-12-15T04:19:02.471Z"
   },
   {
    "duration": 33,
    "start_time": "2024-12-15T04:19:02.476Z"
   },
   {
    "duration": 16,
    "start_time": "2024-12-15T04:19:02.511Z"
   },
   {
    "duration": 6,
    "start_time": "2024-12-15T04:19:02.529Z"
   },
   {
    "duration": 7,
    "start_time": "2024-12-15T04:19:02.539Z"
   },
   {
    "duration": 3,
    "start_time": "2024-12-15T04:19:02.548Z"
   },
   {
    "duration": 8,
    "start_time": "2024-12-15T04:19:02.554Z"
   },
   {
    "duration": 9,
    "start_time": "2024-12-15T04:19:02.564Z"
   },
   {
    "duration": 292,
    "start_time": "2024-12-15T04:19:02.609Z"
   },
   {
    "duration": 298,
    "start_time": "2024-12-15T04:19:02.904Z"
   },
   {
    "duration": 0,
    "start_time": "2024-12-15T04:19:03.209Z"
   },
   {
    "duration": 0,
    "start_time": "2024-12-15T04:19:03.211Z"
   },
   {
    "duration": 0,
    "start_time": "2024-12-15T04:19:03.212Z"
   },
   {
    "duration": 0,
    "start_time": "2024-12-15T04:19:03.214Z"
   },
   {
    "duration": 0,
    "start_time": "2024-12-15T04:19:03.215Z"
   },
   {
    "duration": 0,
    "start_time": "2024-12-15T04:19:03.217Z"
   },
   {
    "duration": 0,
    "start_time": "2024-12-15T04:19:03.218Z"
   },
   {
    "duration": 0,
    "start_time": "2024-12-15T04:19:03.221Z"
   },
   {
    "duration": 608,
    "start_time": "2024-12-15T04:20:00.942Z"
   },
   {
    "duration": 1019,
    "start_time": "2024-12-15T04:24:23.324Z"
   },
   {
    "duration": 21,
    "start_time": "2024-12-15T04:24:24.345Z"
   },
   {
    "duration": 11,
    "start_time": "2024-12-15T04:24:24.368Z"
   },
   {
    "duration": 11,
    "start_time": "2024-12-15T04:24:24.381Z"
   },
   {
    "duration": 25,
    "start_time": "2024-12-15T04:24:24.394Z"
   },
   {
    "duration": 4,
    "start_time": "2024-12-15T04:24:24.422Z"
   },
   {
    "duration": 3,
    "start_time": "2024-12-15T04:24:24.428Z"
   },
   {
    "duration": 16,
    "start_time": "2024-12-15T04:24:24.433Z"
   },
   {
    "duration": 6,
    "start_time": "2024-12-15T04:24:24.451Z"
   },
   {
    "duration": 8,
    "start_time": "2024-12-15T04:24:24.458Z"
   },
   {
    "duration": 44,
    "start_time": "2024-12-15T04:24:24.469Z"
   },
   {
    "duration": 8,
    "start_time": "2024-12-15T04:24:24.515Z"
   },
   {
    "duration": 6,
    "start_time": "2024-12-15T04:24:24.524Z"
   },
   {
    "duration": 292,
    "start_time": "2024-12-15T04:24:24.534Z"
   },
   {
    "duration": 562,
    "start_time": "2024-12-15T04:24:24.828Z"
   },
   {
    "duration": 243,
    "start_time": "2024-12-15T04:24:25.392Z"
   },
   {
    "duration": 0,
    "start_time": "2024-12-15T04:24:25.637Z"
   },
   {
    "duration": 0,
    "start_time": "2024-12-15T04:24:25.638Z"
   },
   {
    "duration": 0,
    "start_time": "2024-12-15T04:24:25.640Z"
   },
   {
    "duration": 0,
    "start_time": "2024-12-15T04:24:25.641Z"
   },
   {
    "duration": 0,
    "start_time": "2024-12-15T04:24:25.643Z"
   },
   {
    "duration": 0,
    "start_time": "2024-12-15T04:24:25.644Z"
   },
   {
    "duration": 0,
    "start_time": "2024-12-15T04:24:25.645Z"
   },
   {
    "duration": 940,
    "start_time": "2024-12-15T04:24:58.982Z"
   },
   {
    "duration": 19,
    "start_time": "2024-12-15T04:24:59.924Z"
   },
   {
    "duration": 10,
    "start_time": "2024-12-15T04:24:59.944Z"
   },
   {
    "duration": 11,
    "start_time": "2024-12-15T04:24:59.956Z"
   },
   {
    "duration": 10,
    "start_time": "2024-12-15T04:24:59.971Z"
   },
   {
    "duration": 28,
    "start_time": "2024-12-15T04:24:59.983Z"
   },
   {
    "duration": 3,
    "start_time": "2024-12-15T04:25:00.014Z"
   },
   {
    "duration": 14,
    "start_time": "2024-12-15T04:25:00.020Z"
   },
   {
    "duration": 6,
    "start_time": "2024-12-15T04:25:00.035Z"
   },
   {
    "duration": 7,
    "start_time": "2024-12-15T04:25:00.042Z"
   },
   {
    "duration": 3,
    "start_time": "2024-12-15T04:25:00.051Z"
   },
   {
    "duration": 7,
    "start_time": "2024-12-15T04:25:00.055Z"
   },
   {
    "duration": 6,
    "start_time": "2024-12-15T04:25:00.064Z"
   },
   {
    "duration": 293,
    "start_time": "2024-12-15T04:25:00.112Z"
   },
   {
    "duration": 579,
    "start_time": "2024-12-15T04:25:00.408Z"
   },
   {
    "duration": 10,
    "start_time": "2024-12-15T04:25:00.989Z"
   },
   {
    "duration": 222,
    "start_time": "2024-12-15T04:25:01.009Z"
   },
   {
    "duration": 7,
    "start_time": "2024-12-15T04:25:01.233Z"
   },
   {
    "duration": 148,
    "start_time": "2024-12-15T04:25:01.242Z"
   },
   {
    "duration": 20,
    "start_time": "2024-12-15T04:25:01.392Z"
   },
   {
    "duration": 7,
    "start_time": "2024-12-15T04:25:01.414Z"
   },
   {
    "duration": 5,
    "start_time": "2024-12-15T04:25:01.423Z"
   },
   {
    "duration": 62342,
    "start_time": "2024-12-15T04:25:01.431Z"
   },
   {
    "duration": 4,
    "start_time": "2024-12-15T04:27:53.649Z"
   },
   {
    "duration": 9,
    "start_time": "2024-12-15T04:49:57.899Z"
   },
   {
    "duration": 7,
    "start_time": "2024-12-15T04:51:29.646Z"
   },
   {
    "duration": 10,
    "start_time": "2024-12-15T04:57:26.347Z"
   },
   {
    "duration": 8,
    "start_time": "2024-12-15T05:05:52.691Z"
   },
   {
    "duration": 9,
    "start_time": "2024-12-15T05:11:39.454Z"
   },
   {
    "duration": 7,
    "start_time": "2024-12-15T05:11:55.337Z"
   },
   {
    "duration": 7,
    "start_time": "2024-12-15T05:12:55.539Z"
   },
   {
    "duration": 982,
    "start_time": "2024-12-15T05:15:21.992Z"
   },
   {
    "duration": 19,
    "start_time": "2024-12-15T05:15:22.976Z"
   },
   {
    "duration": 16,
    "start_time": "2024-12-15T05:15:22.997Z"
   },
   {
    "duration": 10,
    "start_time": "2024-12-15T05:15:23.014Z"
   },
   {
    "duration": 10,
    "start_time": "2024-12-15T05:15:23.027Z"
   },
   {
    "duration": 3,
    "start_time": "2024-12-15T05:15:23.038Z"
   },
   {
    "duration": 3,
    "start_time": "2024-12-15T05:15:23.043Z"
   },
   {
    "duration": 16,
    "start_time": "2024-12-15T05:15:23.049Z"
   },
   {
    "duration": 5,
    "start_time": "2024-12-15T05:15:23.067Z"
   },
   {
    "duration": 41,
    "start_time": "2024-12-15T05:15:23.073Z"
   },
   {
    "duration": 5,
    "start_time": "2024-12-15T05:15:23.115Z"
   },
   {
    "duration": 7,
    "start_time": "2024-12-15T05:15:23.122Z"
   },
   {
    "duration": 6,
    "start_time": "2024-12-15T05:15:23.131Z"
   },
   {
    "duration": 232,
    "start_time": "2024-12-15T05:15:23.141Z"
   },
   {
    "duration": 590,
    "start_time": "2024-12-15T05:15:23.375Z"
   },
   {
    "duration": 11,
    "start_time": "2024-12-15T05:15:23.969Z"
   },
   {
    "duration": 254,
    "start_time": "2024-12-15T05:15:23.981Z"
   },
   {
    "duration": 11,
    "start_time": "2024-12-15T05:15:24.237Z"
   },
   {
    "duration": 146,
    "start_time": "2024-12-15T05:15:24.251Z"
   },
   {
    "duration": 21,
    "start_time": "2024-12-15T05:15:24.399Z"
   },
   {
    "duration": 10,
    "start_time": "2024-12-15T05:15:24.421Z"
   },
   {
    "duration": 8,
    "start_time": "2024-12-15T05:15:24.433Z"
   },
   {
    "duration": 6,
    "start_time": "2024-12-15T05:15:24.444Z"
   },
   {
    "duration": 62035,
    "start_time": "2024-12-15T05:15:24.453Z"
   },
   {
    "duration": 1112,
    "start_time": "2024-12-15T05:28:56.417Z"
   },
   {
    "duration": 20,
    "start_time": "2024-12-15T05:28:57.532Z"
   },
   {
    "duration": 11,
    "start_time": "2024-12-15T05:28:57.554Z"
   },
   {
    "duration": 12,
    "start_time": "2024-12-15T05:28:57.570Z"
   },
   {
    "duration": 35,
    "start_time": "2024-12-15T05:28:57.585Z"
   },
   {
    "duration": 3,
    "start_time": "2024-12-15T05:28:57.622Z"
   },
   {
    "duration": 4,
    "start_time": "2024-12-15T05:28:57.628Z"
   },
   {
    "duration": 17,
    "start_time": "2024-12-15T05:28:57.635Z"
   },
   {
    "duration": 6,
    "start_time": "2024-12-15T05:28:57.653Z"
   },
   {
    "duration": 8,
    "start_time": "2024-12-15T05:28:57.661Z"
   },
   {
    "duration": 3,
    "start_time": "2024-12-15T05:28:57.670Z"
   },
   {
    "duration": 41,
    "start_time": "2024-12-15T05:28:57.675Z"
   },
   {
    "duration": 7,
    "start_time": "2024-12-15T05:28:57.720Z"
   },
   {
    "duration": 237,
    "start_time": "2024-12-15T05:28:57.732Z"
   },
   {
    "duration": 613,
    "start_time": "2024-12-15T05:28:57.972Z"
   },
   {
    "duration": 9,
    "start_time": "2024-12-15T05:28:58.587Z"
   },
   {
    "duration": 249,
    "start_time": "2024-12-15T05:28:58.597Z"
   },
   {
    "duration": 9,
    "start_time": "2024-12-15T05:28:58.847Z"
   },
   {
    "duration": 147,
    "start_time": "2024-12-15T05:28:58.858Z"
   },
   {
    "duration": 11,
    "start_time": "2024-12-15T05:28:59.009Z"
   },
   {
    "duration": 8,
    "start_time": "2024-12-15T05:28:59.022Z"
   },
   {
    "duration": 8,
    "start_time": "2024-12-15T05:28:59.032Z"
   },
   {
    "duration": 6,
    "start_time": "2024-12-15T05:28:59.042Z"
   },
   {
    "duration": 62008,
    "start_time": "2024-12-15T05:28:59.051Z"
   },
   {
    "duration": 8,
    "start_time": "2024-12-15T05:30:01.062Z"
   },
   {
    "duration": 2599,
    "start_time": "2024-12-16T19:32:27.489Z"
   },
   {
    "duration": 56,
    "start_time": "2024-12-16T19:32:30.090Z"
   },
   {
    "duration": 11,
    "start_time": "2024-12-16T19:32:30.148Z"
   },
   {
    "duration": 10,
    "start_time": "2024-12-16T19:32:30.160Z"
   },
   {
    "duration": 9,
    "start_time": "2024-12-16T19:32:30.173Z"
   },
   {
    "duration": 2,
    "start_time": "2024-12-16T19:32:30.184Z"
   },
   {
    "duration": 3,
    "start_time": "2024-12-16T19:32:30.188Z"
   },
   {
    "duration": 12,
    "start_time": "2024-12-16T19:32:30.193Z"
   },
   {
    "duration": 39,
    "start_time": "2024-12-16T19:32:30.206Z"
   },
   {
    "duration": 7,
    "start_time": "2024-12-16T19:32:30.247Z"
   },
   {
    "duration": 3,
    "start_time": "2024-12-16T19:32:30.256Z"
   },
   {
    "duration": 6,
    "start_time": "2024-12-16T19:32:30.260Z"
   },
   {
    "duration": 4,
    "start_time": "2024-12-16T19:32:30.268Z"
   },
   {
    "duration": 231,
    "start_time": "2024-12-16T19:32:30.276Z"
   },
   {
    "duration": 585,
    "start_time": "2024-12-16T19:32:30.509Z"
   },
   {
    "duration": 8,
    "start_time": "2024-12-16T19:32:31.096Z"
   },
   {
    "duration": 219,
    "start_time": "2024-12-16T19:32:31.106Z"
   },
   {
    "duration": 7,
    "start_time": "2024-12-16T19:32:31.327Z"
   },
   {
    "duration": 134,
    "start_time": "2024-12-16T19:32:31.342Z"
   },
   {
    "duration": 9,
    "start_time": "2024-12-16T19:32:31.478Z"
   },
   {
    "duration": 7,
    "start_time": "2024-12-16T19:32:31.488Z"
   },
   {
    "duration": 6,
    "start_time": "2024-12-16T19:32:31.496Z"
   },
   {
    "duration": 4,
    "start_time": "2024-12-16T19:32:31.504Z"
   },
   {
    "duration": 60433,
    "start_time": "2024-12-16T19:32:31.511Z"
   },
   {
    "duration": 306,
    "start_time": "2024-12-16T19:39:15.210Z"
   },
   {
    "duration": 8,
    "start_time": "2024-12-16T19:39:33.107Z"
   },
   {
    "duration": 7,
    "start_time": "2024-12-16T19:40:46.635Z"
   },
   {
    "duration": 14,
    "start_time": "2024-12-16T19:41:02.322Z"
   },
   {
    "duration": 7,
    "start_time": "2024-12-16T19:42:33.227Z"
   },
   {
    "duration": 14,
    "start_time": "2024-12-16T19:55:56.023Z"
   },
   {
    "duration": 6,
    "start_time": "2024-12-16T19:56:18.749Z"
   },
   {
    "duration": 15,
    "start_time": "2024-12-16T19:59:52.310Z"
   },
   {
    "duration": 4,
    "start_time": "2024-12-16T20:00:08.323Z"
   },
   {
    "duration": 6,
    "start_time": "2024-12-16T20:00:34.327Z"
   },
   {
    "duration": 12,
    "start_time": "2024-12-16T20:01:47.695Z"
   },
   {
    "duration": 4,
    "start_time": "2024-12-16T20:02:01.979Z"
   },
   {
    "duration": 12,
    "start_time": "2024-12-16T20:02:10.208Z"
   },
   {
    "duration": 25,
    "start_time": "2024-12-16T20:10:21.000Z"
   },
   {
    "duration": 7,
    "start_time": "2024-12-16T20:10:52.259Z"
   },
   {
    "duration": 7,
    "start_time": "2024-12-16T20:11:25.013Z"
   },
   {
    "duration": 29,
    "start_time": "2024-12-16T20:11:45.174Z"
   },
   {
    "duration": 990,
    "start_time": "2024-12-16T20:12:34.281Z"
   },
   {
    "duration": 172,
    "start_time": "2024-12-16T20:12:59.579Z"
   },
   {
    "duration": 2,
    "start_time": "2024-12-16T20:13:15.392Z"
   },
   {
    "duration": 4,
    "start_time": "2024-12-16T20:13:32.355Z"
   },
   {
    "duration": 131726,
    "start_time": "2024-12-16T20:15:07.964Z"
   },
   {
    "duration": 10,
    "start_time": "2024-12-16T20:21:20.678Z"
   },
   {
    "duration": 1302,
    "start_time": "2024-12-16T20:27:07.142Z"
   },
   {
    "duration": 131955,
    "start_time": "2024-12-16T20:28:11.052Z"
   },
   {
    "duration": 18651,
    "start_time": "2024-12-16T20:30:23.009Z"
   },
   {
    "duration": 86,
    "start_time": "2024-12-16T20:30:41.662Z"
   },
   {
    "duration": 8,
    "start_time": "2024-12-16T20:35:14.890Z"
   },
   {
    "duration": 930,
    "start_time": "2024-12-16T20:35:24.617Z"
   },
   {
    "duration": 17,
    "start_time": "2024-12-16T20:35:25.549Z"
   },
   {
    "duration": 9,
    "start_time": "2024-12-16T20:35:25.567Z"
   },
   {
    "duration": 10,
    "start_time": "2024-12-16T20:35:25.577Z"
   },
   {
    "duration": 9,
    "start_time": "2024-12-16T20:35:25.589Z"
   },
   {
    "duration": 2,
    "start_time": "2024-12-16T20:35:25.599Z"
   },
   {
    "duration": 3,
    "start_time": "2024-12-16T20:35:25.603Z"
   },
   {
    "duration": 48,
    "start_time": "2024-12-16T20:35:25.607Z"
   },
   {
    "duration": 6,
    "start_time": "2024-12-16T20:35:25.656Z"
   },
   {
    "duration": 9,
    "start_time": "2024-12-16T20:35:25.666Z"
   },
   {
    "duration": 2,
    "start_time": "2024-12-16T20:35:25.677Z"
   },
   {
    "duration": 6,
    "start_time": "2024-12-16T20:35:25.681Z"
   },
   {
    "duration": 5,
    "start_time": "2024-12-16T20:35:25.689Z"
   },
   {
    "duration": 230,
    "start_time": "2024-12-16T20:35:25.697Z"
   },
   {
    "duration": 559,
    "start_time": "2024-12-16T20:35:25.930Z"
   },
   {
    "duration": 9,
    "start_time": "2024-12-16T20:35:26.490Z"
   },
   {
    "duration": 217,
    "start_time": "2024-12-16T20:35:26.501Z"
   },
   {
    "duration": 7,
    "start_time": "2024-12-16T20:35:26.721Z"
   },
   {
    "duration": 139,
    "start_time": "2024-12-16T20:35:26.729Z"
   },
   {
    "duration": 10,
    "start_time": "2024-12-16T20:35:26.870Z"
   },
   {
    "duration": 10,
    "start_time": "2024-12-16T20:35:26.881Z"
   },
   {
    "duration": 13,
    "start_time": "2024-12-16T20:35:26.892Z"
   },
   {
    "duration": 4,
    "start_time": "2024-12-16T20:35:26.906Z"
   },
   {
    "duration": 32,
    "start_time": "2024-12-16T20:35:26.911Z"
   },
   {
    "duration": 9,
    "start_time": "2024-12-16T20:35:26.944Z"
   },
   {
    "duration": 7,
    "start_time": "2024-12-16T20:35:26.954Z"
   },
   {
    "duration": 21,
    "start_time": "2024-12-16T20:35:26.963Z"
   },
   {
    "duration": 1079,
    "start_time": "2024-12-16T20:35:26.986Z"
   },
   {
    "duration": 289,
    "start_time": "2024-12-16T20:35:28.067Z"
   },
   {
    "duration": 3,
    "start_time": "2024-12-16T20:35:28.361Z"
   },
   {
    "duration": 1291,
    "start_time": "2024-12-16T20:35:28.365Z"
   },
   {
    "duration": 132702,
    "start_time": "2024-12-16T20:35:29.658Z"
   },
   {
    "duration": 18704,
    "start_time": "2024-12-16T20:37:42.361Z"
   },
   {
    "duration": 7,
    "start_time": "2024-12-16T20:38:01.144Z"
   },
   {
    "duration": 3077,
    "start_time": "2024-12-17T03:18:14.806Z"
   },
   {
    "duration": 28,
    "start_time": "2024-12-17T03:18:17.885Z"
   },
   {
    "duration": 13,
    "start_time": "2024-12-17T03:18:17.914Z"
   },
   {
    "duration": 15,
    "start_time": "2024-12-17T03:18:17.944Z"
   },
   {
    "duration": 10,
    "start_time": "2024-12-17T03:18:17.961Z"
   },
   {
    "duration": 4,
    "start_time": "2024-12-17T03:18:17.972Z"
   },
   {
    "duration": 3,
    "start_time": "2024-12-17T03:18:17.978Z"
   },
   {
    "duration": 12,
    "start_time": "2024-12-17T03:18:17.982Z"
   },
   {
    "duration": 4,
    "start_time": "2024-12-17T03:18:17.996Z"
   },
   {
    "duration": 29,
    "start_time": "2024-12-17T03:18:18.003Z"
   },
   {
    "duration": 3,
    "start_time": "2024-12-17T03:18:18.033Z"
   },
   {
    "duration": 8,
    "start_time": "2024-12-17T03:18:18.038Z"
   },
   {
    "duration": 22,
    "start_time": "2024-12-17T03:18:18.048Z"
   },
   {
    "duration": 232,
    "start_time": "2024-12-17T03:18:18.072Z"
   },
   {
    "duration": 682,
    "start_time": "2024-12-17T03:18:18.306Z"
   },
   {
    "duration": 7,
    "start_time": "2024-12-17T03:18:18.990Z"
   },
   {
    "duration": 260,
    "start_time": "2024-12-17T03:18:18.999Z"
   },
   {
    "duration": 7,
    "start_time": "2024-12-17T03:18:19.262Z"
   },
   {
    "duration": 154,
    "start_time": "2024-12-17T03:18:19.270Z"
   },
   {
    "duration": 14,
    "start_time": "2024-12-17T03:18:19.427Z"
   },
   {
    "duration": 16,
    "start_time": "2024-12-17T03:18:19.443Z"
   },
   {
    "duration": 15,
    "start_time": "2024-12-17T03:18:19.461Z"
   },
   {
    "duration": 4,
    "start_time": "2024-12-17T03:18:19.477Z"
   },
   {
    "duration": 6,
    "start_time": "2024-12-17T03:18:19.483Z"
   },
   {
    "duration": 9,
    "start_time": "2024-12-17T03:18:19.490Z"
   },
   {
    "duration": 2233,
    "start_time": "2024-12-17T03:18:19.500Z"
   },
   {
    "duration": 1431716,
    "start_time": "2024-12-17T03:18:21.735Z"
   },
   {
    "duration": 1932680,
    "start_time": "2024-12-17T04:35:59.864Z"
   },
   {
    "duration": 81,
    "start_time": "2024-12-17T05:08:12.547Z"
   },
   {
    "duration": 162,
    "start_time": "2024-12-17T16:16:41.471Z"
   },
   {
    "duration": 2751,
    "start_time": "2024-12-17T16:17:01.936Z"
   },
   {
    "duration": 29,
    "start_time": "2024-12-17T16:17:04.689Z"
   },
   {
    "duration": 10,
    "start_time": "2024-12-17T16:17:04.720Z"
   },
   {
    "duration": 10,
    "start_time": "2024-12-17T16:17:04.733Z"
   },
   {
    "duration": 11,
    "start_time": "2024-12-17T16:17:04.745Z"
   },
   {
    "duration": 3,
    "start_time": "2024-12-17T16:17:04.758Z"
   },
   {
    "duration": 4,
    "start_time": "2024-12-17T16:17:04.763Z"
   },
   {
    "duration": 41,
    "start_time": "2024-12-17T16:17:04.768Z"
   },
   {
    "duration": 5,
    "start_time": "2024-12-17T16:17:04.811Z"
   },
   {
    "duration": 6,
    "start_time": "2024-12-17T16:17:04.820Z"
   },
   {
    "duration": 2,
    "start_time": "2024-12-17T16:17:04.828Z"
   },
   {
    "duration": 7,
    "start_time": "2024-12-17T16:17:04.832Z"
   },
   {
    "duration": 5,
    "start_time": "2024-12-17T16:17:04.840Z"
   },
   {
    "duration": 236,
    "start_time": "2024-12-17T16:17:04.846Z"
   },
   {
    "duration": 596,
    "start_time": "2024-12-17T16:17:05.084Z"
   },
   {
    "duration": 10,
    "start_time": "2024-12-17T16:17:05.682Z"
   },
   {
    "duration": 226,
    "start_time": "2024-12-17T16:17:05.693Z"
   },
   {
    "duration": 7,
    "start_time": "2024-12-17T16:17:05.921Z"
   },
   {
    "duration": 132,
    "start_time": "2024-12-17T16:17:05.930Z"
   },
   {
    "duration": 8,
    "start_time": "2024-12-17T16:17:06.064Z"
   },
   {
    "duration": 9,
    "start_time": "2024-12-17T16:17:06.074Z"
   },
   {
    "duration": 25,
    "start_time": "2024-12-17T16:17:06.084Z"
   },
   {
    "duration": 15,
    "start_time": "2024-12-17T16:17:06.110Z"
   },
   {
    "duration": 4,
    "start_time": "2024-12-17T16:17:06.127Z"
   },
   {
    "duration": 6,
    "start_time": "2024-12-17T16:17:06.132Z"
   },
   {
    "duration": 9,
    "start_time": "2024-12-17T16:17:06.140Z"
   },
   {
    "duration": 1357,
    "start_time": "2024-12-17T16:17:06.150Z"
   },
   {
    "duration": 982,
    "start_time": "2024-12-17T16:28:37.044Z"
   },
   {
    "duration": 21,
    "start_time": "2024-12-17T16:28:38.030Z"
   },
   {
    "duration": 9,
    "start_time": "2024-12-17T16:28:38.052Z"
   },
   {
    "duration": 10,
    "start_time": "2024-12-17T16:28:38.063Z"
   },
   {
    "duration": 10,
    "start_time": "2024-12-17T16:28:38.074Z"
   },
   {
    "duration": 19,
    "start_time": "2024-12-17T16:28:38.086Z"
   },
   {
    "duration": 2,
    "start_time": "2024-12-17T16:28:38.107Z"
   },
   {
    "duration": 12,
    "start_time": "2024-12-17T16:28:38.111Z"
   },
   {
    "duration": 6,
    "start_time": "2024-12-17T16:28:38.125Z"
   },
   {
    "duration": 5,
    "start_time": "2024-12-17T16:28:38.134Z"
   },
   {
    "duration": 4,
    "start_time": "2024-12-17T16:28:38.141Z"
   },
   {
    "duration": 7,
    "start_time": "2024-12-17T16:28:38.146Z"
   },
   {
    "duration": 5,
    "start_time": "2024-12-17T16:28:38.154Z"
   },
   {
    "duration": 233,
    "start_time": "2024-12-17T16:28:38.160Z"
   },
   {
    "duration": 539,
    "start_time": "2024-12-17T16:28:38.395Z"
   },
   {
    "duration": 7,
    "start_time": "2024-12-17T16:28:38.936Z"
   },
   {
    "duration": 208,
    "start_time": "2024-12-17T16:28:38.946Z"
   },
   {
    "duration": 7,
    "start_time": "2024-12-17T16:28:39.156Z"
   },
   {
    "duration": 141,
    "start_time": "2024-12-17T16:28:39.165Z"
   },
   {
    "duration": 10,
    "start_time": "2024-12-17T16:28:39.307Z"
   },
   {
    "duration": 10,
    "start_time": "2024-12-17T16:28:39.318Z"
   },
   {
    "duration": 8,
    "start_time": "2024-12-17T16:28:39.330Z"
   },
   {
    "duration": 15,
    "start_time": "2024-12-17T16:28:39.340Z"
   },
   {
    "duration": 348,
    "start_time": "2024-12-17T16:28:39.357Z"
   },
   {
    "duration": 0,
    "start_time": "2024-12-17T16:28:39.707Z"
   },
   {
    "duration": 0,
    "start_time": "2024-12-17T16:28:39.708Z"
   },
   {
    "duration": 0,
    "start_time": "2024-12-17T16:28:39.709Z"
   },
   {
    "duration": 0,
    "start_time": "2024-12-17T16:28:39.710Z"
   },
   {
    "duration": 0,
    "start_time": "2024-12-17T16:28:39.711Z"
   },
   {
    "duration": 0,
    "start_time": "2024-12-17T16:28:39.712Z"
   },
   {
    "duration": 0,
    "start_time": "2024-12-17T16:28:39.713Z"
   },
   {
    "duration": 996,
    "start_time": "2024-12-17T16:29:04.628Z"
   },
   {
    "duration": 15,
    "start_time": "2024-12-17T16:29:05.626Z"
   },
   {
    "duration": 8,
    "start_time": "2024-12-17T16:29:05.643Z"
   },
   {
    "duration": 8,
    "start_time": "2024-12-17T16:29:05.653Z"
   },
   {
    "duration": 9,
    "start_time": "2024-12-17T16:29:05.663Z"
   },
   {
    "duration": 3,
    "start_time": "2024-12-17T16:29:05.673Z"
   },
   {
    "duration": 3,
    "start_time": "2024-12-17T16:29:05.677Z"
   },
   {
    "duration": 13,
    "start_time": "2024-12-17T16:29:05.706Z"
   },
   {
    "duration": 4,
    "start_time": "2024-12-17T16:29:05.722Z"
   },
   {
    "duration": 6,
    "start_time": "2024-12-17T16:29:05.730Z"
   },
   {
    "duration": 3,
    "start_time": "2024-12-17T16:29:05.737Z"
   },
   {
    "duration": 7,
    "start_time": "2024-12-17T16:29:05.741Z"
   },
   {
    "duration": 5,
    "start_time": "2024-12-17T16:29:05.749Z"
   },
   {
    "duration": 239,
    "start_time": "2024-12-17T16:29:05.755Z"
   },
   {
    "duration": 547,
    "start_time": "2024-12-17T16:29:05.996Z"
   },
   {
    "duration": 7,
    "start_time": "2024-12-17T16:29:06.545Z"
   },
   {
    "duration": 216,
    "start_time": "2024-12-17T16:29:06.554Z"
   },
   {
    "duration": 6,
    "start_time": "2024-12-17T16:29:06.772Z"
   },
   {
    "duration": 142,
    "start_time": "2024-12-17T16:29:06.780Z"
   },
   {
    "duration": 9,
    "start_time": "2024-12-17T16:29:06.924Z"
   },
   {
    "duration": 9,
    "start_time": "2024-12-17T16:29:06.935Z"
   },
   {
    "duration": 8,
    "start_time": "2024-12-17T16:29:06.946Z"
   },
   {
    "duration": 15,
    "start_time": "2024-12-17T16:29:06.956Z"
   },
   {
    "duration": 33,
    "start_time": "2024-12-17T16:29:06.973Z"
   },
   {
    "duration": 6,
    "start_time": "2024-12-17T16:29:07.007Z"
   },
   {
    "duration": 9,
    "start_time": "2024-12-17T16:29:07.015Z"
   },
   {
    "duration": 1703,
    "start_time": "2024-12-17T16:29:07.026Z"
   },
   {
    "duration": 1734438,
    "start_time": "2024-12-17T16:29:08.809Z"
   },
   {
    "duration": 1270457,
    "start_time": "2024-12-17T16:58:03.250Z"
   },
   {
    "duration": 13,
    "start_time": "2024-12-17T17:19:13.709Z"
   },
   {
    "duration": 228393,
    "start_time": "2024-12-17T17:19:13.726Z"
   },
   {
    "duration": 82,
    "start_time": "2024-12-17T17:23:02.123Z"
   },
   {
    "duration": 230,
    "start_time": "2024-12-17T17:34:49.354Z"
   },
   {
    "duration": 20,
    "start_time": "2024-12-17T17:35:59.298Z"
   },
   {
    "duration": 14,
    "start_time": "2024-12-17T17:36:09.423Z"
   },
   {
    "duration": 18,
    "start_time": "2024-12-17T17:37:08.325Z"
   },
   {
    "duration": 2084268,
    "start_time": "2024-12-17T17:37:52.598Z"
   },
   {
    "duration": 0,
    "start_time": "2024-12-17T18:12:36.870Z"
   },
   {
    "duration": 15,
    "start_time": "2024-12-17T18:37:23.494Z"
   },
   {
    "duration": 16,
    "start_time": "2024-12-17T18:37:42.028Z"
   },
   {
    "duration": 5,
    "start_time": "2024-12-17T20:02:41.892Z"
   },
   {
    "duration": 19,
    "start_time": "2024-12-17T20:02:54.375Z"
   },
   {
    "duration": 8,
    "start_time": "2024-12-17T20:03:03.222Z"
   },
   {
    "duration": 8,
    "start_time": "2024-12-17T20:03:36.639Z"
   },
   {
    "duration": 11,
    "start_time": "2024-12-17T20:03:40.680Z"
   },
   {
    "duration": 3,
    "start_time": "2024-12-17T20:03:44.663Z"
   },
   {
    "duration": 3,
    "start_time": "2024-12-17T20:03:52.754Z"
   },
   {
    "duration": 455,
    "start_time": "2024-12-17T20:03:59.992Z"
   },
   {
    "duration": 4,
    "start_time": "2024-12-17T20:04:27.542Z"
   },
   {
    "duration": 3,
    "start_time": "2024-12-17T20:04:33.051Z"
   },
   {
    "duration": 16,
    "start_time": "2024-12-17T20:05:05.792Z"
   },
   {
    "duration": 7,
    "start_time": "2024-12-17T20:05:10.283Z"
   },
   {
    "duration": 11,
    "start_time": "2024-12-17T20:05:14.322Z"
   },
   {
    "duration": 10,
    "start_time": "2024-12-17T20:05:18.537Z"
   },
   {
    "duration": 4,
    "start_time": "2024-12-17T20:05:21.520Z"
   },
   {
    "duration": 3,
    "start_time": "2024-12-17T20:05:24.623Z"
   },
   {
    "duration": 12,
    "start_time": "2024-12-17T20:05:27.443Z"
   },
   {
    "duration": 16,
    "start_time": "2024-12-17T21:17:42.813Z"
   },
   {
    "duration": 17,
    "start_time": "2024-12-17T21:18:26.154Z"
   },
   {
    "duration": 16,
    "start_time": "2024-12-17T21:19:13.977Z"
   },
   {
    "duration": 10,
    "start_time": "2024-12-17T21:22:07.556Z"
   },
   {
    "duration": 17,
    "start_time": "2024-12-17T21:22:14.295Z"
   },
   {
    "duration": 970,
    "start_time": "2024-12-17T21:22:57.092Z"
   },
   {
    "duration": 17,
    "start_time": "2024-12-17T21:22:58.063Z"
   },
   {
    "duration": 8,
    "start_time": "2024-12-17T21:22:58.083Z"
   },
   {
    "duration": 13,
    "start_time": "2024-12-17T21:22:58.093Z"
   },
   {
    "duration": 8,
    "start_time": "2024-12-17T21:22:58.108Z"
   },
   {
    "duration": 3,
    "start_time": "2024-12-17T21:22:58.118Z"
   },
   {
    "duration": 3,
    "start_time": "2024-12-17T21:22:58.122Z"
   },
   {
    "duration": 12,
    "start_time": "2024-12-17T21:22:58.127Z"
   },
   {
    "duration": 4,
    "start_time": "2024-12-17T21:22:58.141Z"
   },
   {
    "duration": 6,
    "start_time": "2024-12-17T21:22:58.148Z"
   },
   {
    "duration": 3,
    "start_time": "2024-12-17T21:22:58.155Z"
   },
   {
    "duration": 48,
    "start_time": "2024-12-17T21:22:58.160Z"
   },
   {
    "duration": 5,
    "start_time": "2024-12-17T21:22:58.210Z"
   },
   {
    "duration": 219,
    "start_time": "2024-12-17T21:22:58.216Z"
   },
   {
    "duration": 534,
    "start_time": "2024-12-17T21:22:58.437Z"
   },
   {
    "duration": 8,
    "start_time": "2024-12-17T21:22:58.973Z"
   },
   {
    "duration": 212,
    "start_time": "2024-12-17T21:22:58.983Z"
   },
   {
    "duration": 12,
    "start_time": "2024-12-17T21:22:59.196Z"
   },
   {
    "duration": 132,
    "start_time": "2024-12-17T21:22:59.209Z"
   },
   {
    "duration": 9,
    "start_time": "2024-12-17T21:22:59.344Z"
   },
   {
    "duration": 11,
    "start_time": "2024-12-17T21:22:59.356Z"
   },
   {
    "duration": 36,
    "start_time": "2024-12-17T21:22:59.369Z"
   },
   {
    "duration": 8,
    "start_time": "2024-12-17T21:22:59.406Z"
   },
   {
    "duration": 16,
    "start_time": "2024-12-17T21:22:59.416Z"
   },
   {
    "duration": 587,
    "start_time": "2024-12-17T21:22:59.433Z"
   },
   {
    "duration": 0,
    "start_time": "2024-12-17T21:23:00.022Z"
   },
   {
    "duration": 0,
    "start_time": "2024-12-17T21:23:00.023Z"
   },
   {
    "duration": 0,
    "start_time": "2024-12-17T21:23:00.025Z"
   },
   {
    "duration": 0,
    "start_time": "2024-12-17T21:23:00.026Z"
   },
   {
    "duration": 0,
    "start_time": "2024-12-17T21:23:00.027Z"
   },
   {
    "duration": 0,
    "start_time": "2024-12-17T21:23:00.029Z"
   },
   {
    "duration": 0,
    "start_time": "2024-12-17T21:23:00.030Z"
   },
   {
    "duration": 0,
    "start_time": "2024-12-17T21:23:00.032Z"
   },
   {
    "duration": 0,
    "start_time": "2024-12-17T21:23:00.033Z"
   },
   {
    "duration": 0,
    "start_time": "2024-12-17T21:23:00.034Z"
   },
   {
    "duration": 0,
    "start_time": "2024-12-17T21:23:00.036Z"
   },
   {
    "duration": 161,
    "start_time": "2024-12-18T03:18:00.769Z"
   },
   {
    "duration": 2653,
    "start_time": "2024-12-18T03:18:10.652Z"
   },
   {
    "duration": 22,
    "start_time": "2024-12-18T03:18:13.308Z"
   },
   {
    "duration": 11,
    "start_time": "2024-12-18T03:18:13.332Z"
   },
   {
    "duration": 9,
    "start_time": "2024-12-18T03:18:13.346Z"
   },
   {
    "duration": 23,
    "start_time": "2024-12-18T03:18:13.356Z"
   },
   {
    "duration": 4,
    "start_time": "2024-12-18T03:18:13.380Z"
   },
   {
    "duration": 3,
    "start_time": "2024-12-18T03:18:13.386Z"
   },
   {
    "duration": 12,
    "start_time": "2024-12-18T03:18:13.391Z"
   },
   {
    "duration": 4,
    "start_time": "2024-12-18T03:18:13.405Z"
   },
   {
    "duration": 6,
    "start_time": "2024-12-18T03:18:13.413Z"
   },
   {
    "duration": 3,
    "start_time": "2024-12-18T03:18:13.420Z"
   },
   {
    "duration": 46,
    "start_time": "2024-12-18T03:18:13.424Z"
   },
   {
    "duration": 5,
    "start_time": "2024-12-18T03:18:13.472Z"
   },
   {
    "duration": 207,
    "start_time": "2024-12-18T03:18:13.479Z"
   },
   {
    "duration": 527,
    "start_time": "2024-12-18T03:18:13.688Z"
   },
   {
    "duration": 8,
    "start_time": "2024-12-18T03:18:14.217Z"
   },
   {
    "duration": 271,
    "start_time": "2024-12-18T03:18:14.226Z"
   },
   {
    "duration": 6,
    "start_time": "2024-12-18T03:18:14.499Z"
   },
   {
    "duration": 6,
    "start_time": "2024-12-18T03:18:14.507Z"
   },
   {
    "duration": 139,
    "start_time": "2024-12-18T03:18:14.514Z"
   },
   {
    "duration": 18,
    "start_time": "2024-12-18T03:18:14.655Z"
   },
   {
    "duration": 12,
    "start_time": "2024-12-18T03:18:14.674Z"
   },
   {
    "duration": 14,
    "start_time": "2024-12-18T03:18:14.687Z"
   },
   {
    "duration": 7,
    "start_time": "2024-12-18T03:18:14.703Z"
   },
   {
    "duration": 15,
    "start_time": "2024-12-18T03:18:14.712Z"
   },
   {
    "duration": 579,
    "start_time": "2024-12-18T03:18:14.728Z"
   },
   {
    "duration": 0,
    "start_time": "2024-12-18T03:18:15.309Z"
   },
   {
    "duration": 0,
    "start_time": "2024-12-18T03:18:15.310Z"
   },
   {
    "duration": 0,
    "start_time": "2024-12-18T03:18:15.311Z"
   },
   {
    "duration": 0,
    "start_time": "2024-12-18T03:18:15.312Z"
   },
   {
    "duration": 0,
    "start_time": "2024-12-18T03:18:15.314Z"
   },
   {
    "duration": 0,
    "start_time": "2024-12-18T03:18:15.315Z"
   },
   {
    "duration": 0,
    "start_time": "2024-12-18T03:18:15.316Z"
   },
   {
    "duration": 0,
    "start_time": "2024-12-18T03:18:15.317Z"
   },
   {
    "duration": 0,
    "start_time": "2024-12-18T03:18:15.318Z"
   },
   {
    "duration": 0,
    "start_time": "2024-12-18T03:18:15.319Z"
   },
   {
    "duration": 0,
    "start_time": "2024-12-18T03:18:15.320Z"
   },
   {
    "duration": 6,
    "start_time": "2024-12-18T03:20:01.755Z"
   },
   {
    "duration": 16,
    "start_time": "2024-12-18T03:20:32.055Z"
   },
   {
    "duration": 7,
    "start_time": "2024-12-18T03:22:42.825Z"
   },
   {
    "duration": 970,
    "start_time": "2024-12-18T03:23:22.681Z"
   },
   {
    "duration": 17,
    "start_time": "2024-12-18T03:23:23.653Z"
   },
   {
    "duration": 9,
    "start_time": "2024-12-18T03:23:23.672Z"
   },
   {
    "duration": 9,
    "start_time": "2024-12-18T03:23:23.682Z"
   },
   {
    "duration": 9,
    "start_time": "2024-12-18T03:23:23.694Z"
   },
   {
    "duration": 3,
    "start_time": "2024-12-18T03:23:23.705Z"
   },
   {
    "duration": 3,
    "start_time": "2024-12-18T03:23:23.710Z"
   },
   {
    "duration": 14,
    "start_time": "2024-12-18T03:23:23.715Z"
   },
   {
    "duration": 42,
    "start_time": "2024-12-18T03:23:23.731Z"
   },
   {
    "duration": 6,
    "start_time": "2024-12-18T03:23:23.774Z"
   },
   {
    "duration": 2,
    "start_time": "2024-12-18T03:23:23.782Z"
   },
   {
    "duration": 6,
    "start_time": "2024-12-18T03:23:23.786Z"
   },
   {
    "duration": 5,
    "start_time": "2024-12-18T03:23:23.794Z"
   },
   {
    "duration": 235,
    "start_time": "2024-12-18T03:23:23.803Z"
   },
   {
    "duration": 560,
    "start_time": "2024-12-18T03:23:24.040Z"
   },
   {
    "duration": 7,
    "start_time": "2024-12-18T03:23:24.602Z"
   },
   {
    "duration": 7,
    "start_time": "2024-12-18T03:23:24.611Z"
   },
   {
    "duration": 214,
    "start_time": "2024-12-18T03:23:24.620Z"
   },
   {
    "duration": 7,
    "start_time": "2024-12-18T03:23:24.836Z"
   },
   {
    "duration": 138,
    "start_time": "2024-12-18T03:23:24.844Z"
   },
   {
    "duration": 11,
    "start_time": "2024-12-18T03:23:24.984Z"
   },
   {
    "duration": 12,
    "start_time": "2024-12-18T03:23:24.996Z"
   },
   {
    "duration": 15,
    "start_time": "2024-12-18T03:23:25.009Z"
   },
   {
    "duration": 6,
    "start_time": "2024-12-18T03:23:25.026Z"
   },
   {
    "duration": 47,
    "start_time": "2024-12-18T03:23:25.034Z"
   },
   {
    "duration": 554,
    "start_time": "2024-12-18T03:23:25.083Z"
   },
   {
    "duration": 0,
    "start_time": "2024-12-18T03:23:25.639Z"
   },
   {
    "duration": 0,
    "start_time": "2024-12-18T03:23:25.640Z"
   },
   {
    "duration": 0,
    "start_time": "2024-12-18T03:23:25.641Z"
   },
   {
    "duration": 0,
    "start_time": "2024-12-18T03:23:25.642Z"
   },
   {
    "duration": 0,
    "start_time": "2024-12-18T03:23:25.643Z"
   },
   {
    "duration": 0,
    "start_time": "2024-12-18T03:23:25.644Z"
   },
   {
    "duration": 0,
    "start_time": "2024-12-18T03:23:25.645Z"
   },
   {
    "duration": 0,
    "start_time": "2024-12-18T03:23:25.646Z"
   },
   {
    "duration": 0,
    "start_time": "2024-12-18T03:23:25.647Z"
   },
   {
    "duration": 0,
    "start_time": "2024-12-18T03:23:25.649Z"
   },
   {
    "duration": 0,
    "start_time": "2024-12-18T03:23:25.670Z"
   },
   {
    "duration": 195,
    "start_time": "2024-12-18T03:28:52.592Z"
   },
   {
    "duration": 200,
    "start_time": "2024-12-18T03:31:37.627Z"
   },
   {
    "duration": 201,
    "start_time": "2024-12-18T03:32:01.065Z"
   },
   {
    "duration": 296,
    "start_time": "2024-12-18T03:32:39.068Z"
   },
   {
    "duration": 3,
    "start_time": "2024-12-18T03:32:47.804Z"
   },
   {
    "duration": 127,
    "start_time": "2024-12-18T03:35:05.871Z"
   },
   {
    "duration": 124,
    "start_time": "2024-12-18T03:35:55.349Z"
   },
   {
    "duration": 16,
    "start_time": "2024-12-18T03:38:01.647Z"
   },
   {
    "duration": 16,
    "start_time": "2024-12-18T03:38:14.977Z"
   },
   {
    "duration": 7,
    "start_time": "2024-12-18T03:38:59.959Z"
   },
   {
    "duration": 6,
    "start_time": "2024-12-18T03:39:46.653Z"
   },
   {
    "duration": 13,
    "start_time": "2024-12-18T03:40:03.506Z"
   },
   {
    "duration": 14,
    "start_time": "2024-12-18T03:42:21.312Z"
   },
   {
    "duration": 3,
    "start_time": "2024-12-18T03:42:28.040Z"
   },
   {
    "duration": 6,
    "start_time": "2024-12-18T03:42:34.140Z"
   },
   {
    "duration": 9,
    "start_time": "2024-12-18T03:42:44.482Z"
   },
   {
    "duration": 2002,
    "start_time": "2024-12-18T03:42:52.886Z"
   },
   {
    "duration": 14,
    "start_time": "2024-12-18T03:43:43.041Z"
   },
   {
    "duration": 919,
    "start_time": "2024-12-18T03:47:24.824Z"
   },
   {
    "duration": 18,
    "start_time": "2024-12-18T03:47:25.746Z"
   },
   {
    "duration": 11,
    "start_time": "2024-12-18T03:47:25.765Z"
   },
   {
    "duration": 9,
    "start_time": "2024-12-18T03:47:25.778Z"
   },
   {
    "duration": 10,
    "start_time": "2024-12-18T03:47:25.790Z"
   },
   {
    "duration": 2,
    "start_time": "2024-12-18T03:47:25.801Z"
   },
   {
    "duration": 3,
    "start_time": "2024-12-18T03:47:25.805Z"
   },
   {
    "duration": 14,
    "start_time": "2024-12-18T03:47:25.809Z"
   },
   {
    "duration": 5,
    "start_time": "2024-12-18T03:47:25.824Z"
   },
   {
    "duration": 42,
    "start_time": "2024-12-18T03:47:25.830Z"
   },
   {
    "duration": 4,
    "start_time": "2024-12-18T03:47:25.874Z"
   },
   {
    "duration": 7,
    "start_time": "2024-12-18T03:47:25.879Z"
   },
   {
    "duration": 6,
    "start_time": "2024-12-18T03:47:25.887Z"
   },
   {
    "duration": 233,
    "start_time": "2024-12-18T03:47:25.897Z"
   },
   {
    "duration": 570,
    "start_time": "2024-12-18T03:47:26.132Z"
   },
   {
    "duration": 8,
    "start_time": "2024-12-18T03:47:26.703Z"
   },
   {
    "duration": 216,
    "start_time": "2024-12-18T03:47:26.712Z"
   },
   {
    "duration": 4,
    "start_time": "2024-12-18T03:47:26.929Z"
   },
   {
    "duration": 157,
    "start_time": "2024-12-18T03:47:26.935Z"
   },
   {
    "duration": 10,
    "start_time": "2024-12-18T03:47:27.094Z"
   },
   {
    "duration": 12,
    "start_time": "2024-12-18T03:47:27.105Z"
   },
   {
    "duration": 11,
    "start_time": "2024-12-18T03:47:27.119Z"
   },
   {
    "duration": 4,
    "start_time": "2024-12-18T03:47:27.131Z"
   },
   {
    "duration": 39,
    "start_time": "2024-12-18T03:47:27.136Z"
   },
   {
    "duration": 11,
    "start_time": "2024-12-18T03:47:27.180Z"
   },
   {
    "duration": 1782,
    "start_time": "2024-12-18T03:47:27.192Z"
   },
   {
    "duration": 944,
    "start_time": "2024-12-18T04:01:02.414Z"
   },
   {
    "duration": 21,
    "start_time": "2024-12-18T04:01:03.360Z"
   },
   {
    "duration": 8,
    "start_time": "2024-12-18T04:01:03.383Z"
   },
   {
    "duration": 9,
    "start_time": "2024-12-18T04:01:03.394Z"
   },
   {
    "duration": 12,
    "start_time": "2024-12-18T04:01:03.406Z"
   },
   {
    "duration": 5,
    "start_time": "2024-12-18T04:01:03.420Z"
   },
   {
    "duration": 4,
    "start_time": "2024-12-18T04:01:03.426Z"
   },
   {
    "duration": 44,
    "start_time": "2024-12-18T04:01:03.431Z"
   },
   {
    "duration": 5,
    "start_time": "2024-12-18T04:01:03.477Z"
   },
   {
    "duration": 5,
    "start_time": "2024-12-18T04:01:03.486Z"
   },
   {
    "duration": 2,
    "start_time": "2024-12-18T04:01:03.493Z"
   },
   {
    "duration": 6,
    "start_time": "2024-12-18T04:01:03.497Z"
   },
   {
    "duration": 5,
    "start_time": "2024-12-18T04:01:03.505Z"
   },
   {
    "duration": 240,
    "start_time": "2024-12-18T04:01:03.511Z"
   },
   {
    "duration": 547,
    "start_time": "2024-12-18T04:01:03.753Z"
   },
   {
    "duration": 7,
    "start_time": "2024-12-18T04:01:04.302Z"
   },
   {
    "duration": 216,
    "start_time": "2024-12-18T04:01:04.310Z"
   },
   {
    "duration": 4,
    "start_time": "2024-12-18T04:01:04.528Z"
   },
   {
    "duration": 139,
    "start_time": "2024-12-18T04:01:04.534Z"
   },
   {
    "duration": 9,
    "start_time": "2024-12-18T04:01:04.675Z"
   },
   {
    "duration": 11,
    "start_time": "2024-12-18T04:01:04.686Z"
   },
   {
    "duration": 11,
    "start_time": "2024-12-18T04:01:04.698Z"
   },
   {
    "duration": 4,
    "start_time": "2024-12-18T04:01:04.712Z"
   },
   {
    "duration": 7,
    "start_time": "2024-12-18T04:01:04.718Z"
   },
   {
    "duration": 46,
    "start_time": "2024-12-18T04:01:04.727Z"
   },
   {
    "duration": 1796,
    "start_time": "2024-12-18T04:01:04.774Z"
   },
   {
    "duration": 980,
    "start_time": "2024-12-18T04:03:46.552Z"
   },
   {
    "duration": 17,
    "start_time": "2024-12-18T04:03:47.533Z"
   },
   {
    "duration": 18,
    "start_time": "2024-12-18T04:03:47.552Z"
   },
   {
    "duration": 9,
    "start_time": "2024-12-18T04:03:47.572Z"
   },
   {
    "duration": 9,
    "start_time": "2024-12-18T04:03:47.583Z"
   },
   {
    "duration": 2,
    "start_time": "2024-12-18T04:03:47.594Z"
   },
   {
    "duration": 2,
    "start_time": "2024-12-18T04:03:47.598Z"
   },
   {
    "duration": 13,
    "start_time": "2024-12-18T04:03:47.602Z"
   },
   {
    "duration": 5,
    "start_time": "2024-12-18T04:03:47.617Z"
   },
   {
    "duration": 6,
    "start_time": "2024-12-18T04:03:47.624Z"
   },
   {
    "duration": 41,
    "start_time": "2024-12-18T04:03:47.631Z"
   },
   {
    "duration": 7,
    "start_time": "2024-12-18T04:03:47.673Z"
   },
   {
    "duration": 7,
    "start_time": "2024-12-18T04:03:47.681Z"
   },
   {
    "duration": 221,
    "start_time": "2024-12-18T04:03:47.689Z"
   },
   {
    "duration": 535,
    "start_time": "2024-12-18T04:03:47.913Z"
   },
   {
    "duration": 8,
    "start_time": "2024-12-18T04:03:48.450Z"
   },
   {
    "duration": 217,
    "start_time": "2024-12-18T04:03:48.460Z"
   },
   {
    "duration": 4,
    "start_time": "2024-12-18T04:03:48.680Z"
   },
   {
    "duration": 146,
    "start_time": "2024-12-18T04:03:48.686Z"
   },
   {
    "duration": 10,
    "start_time": "2024-12-18T04:03:48.834Z"
   },
   {
    "duration": 25,
    "start_time": "2024-12-18T04:03:48.845Z"
   },
   {
    "duration": 11,
    "start_time": "2024-12-18T04:03:48.871Z"
   },
   {
    "duration": 4,
    "start_time": "2024-12-18T04:03:48.883Z"
   },
   {
    "duration": 6,
    "start_time": "2024-12-18T04:03:48.888Z"
   },
   {
    "duration": 8,
    "start_time": "2024-12-18T04:03:48.897Z"
   },
   {
    "duration": 1586,
    "start_time": "2024-12-18T04:03:48.907Z"
   },
   {
    "duration": 1037,
    "start_time": "2024-12-18T04:06:46.859Z"
   },
   {
    "duration": 18,
    "start_time": "2024-12-18T04:06:47.899Z"
   },
   {
    "duration": 10,
    "start_time": "2024-12-18T04:06:47.918Z"
   },
   {
    "duration": 9,
    "start_time": "2024-12-18T04:06:47.930Z"
   },
   {
    "duration": 30,
    "start_time": "2024-12-18T04:06:47.942Z"
   },
   {
    "duration": 3,
    "start_time": "2024-12-18T04:06:47.974Z"
   },
   {
    "duration": 3,
    "start_time": "2024-12-18T04:06:47.980Z"
   },
   {
    "duration": 20,
    "start_time": "2024-12-18T04:06:47.985Z"
   },
   {
    "duration": 5,
    "start_time": "2024-12-18T04:06:48.007Z"
   },
   {
    "duration": 6,
    "start_time": "2024-12-18T04:06:48.014Z"
   },
   {
    "duration": 4,
    "start_time": "2024-12-18T04:06:48.023Z"
   },
   {
    "duration": 45,
    "start_time": "2024-12-18T04:06:48.028Z"
   },
   {
    "duration": 6,
    "start_time": "2024-12-18T04:06:48.075Z"
   },
   {
    "duration": 293,
    "start_time": "2024-12-18T04:06:48.085Z"
   },
   {
    "duration": 560,
    "start_time": "2024-12-18T04:06:48.380Z"
   },
   {
    "duration": 8,
    "start_time": "2024-12-18T04:06:48.942Z"
   },
   {
    "duration": 257,
    "start_time": "2024-12-18T04:06:48.951Z"
   },
   {
    "duration": 5,
    "start_time": "2024-12-18T04:06:49.210Z"
   },
   {
    "duration": 195,
    "start_time": "2024-12-18T04:06:49.217Z"
   },
   {
    "duration": 9,
    "start_time": "2024-12-18T04:06:49.414Z"
   },
   {
    "duration": 11,
    "start_time": "2024-12-18T04:06:49.425Z"
   },
   {
    "duration": 33,
    "start_time": "2024-12-18T04:06:49.438Z"
   },
   {
    "duration": 4,
    "start_time": "2024-12-18T04:06:49.473Z"
   },
   {
    "duration": 6,
    "start_time": "2024-12-18T04:06:49.479Z"
   },
   {
    "duration": 9,
    "start_time": "2024-12-18T04:06:49.487Z"
   },
   {
    "duration": 1676,
    "start_time": "2024-12-18T04:06:49.498Z"
   },
   {
    "duration": 362,
    "start_time": "2024-12-18T04:06:51.178Z"
   },
   {
    "duration": 0,
    "start_time": "2024-12-18T04:06:51.542Z"
   },
   {
    "duration": 0,
    "start_time": "2024-12-18T04:06:51.543Z"
   },
   {
    "duration": 1,
    "start_time": "2024-12-18T04:06:51.544Z"
   },
   {
    "duration": 0,
    "start_time": "2024-12-18T04:06:51.545Z"
   },
   {
    "duration": 0,
    "start_time": "2024-12-18T04:06:51.546Z"
   },
   {
    "duration": 0,
    "start_time": "2024-12-18T04:06:51.547Z"
   },
   {
    "duration": 0,
    "start_time": "2024-12-18T04:06:51.549Z"
   },
   {
    "duration": 14,
    "start_time": "2024-12-18T04:07:26.412Z"
   },
   {
    "duration": 13,
    "start_time": "2024-12-18T04:08:13.906Z"
   },
   {
    "duration": 197,
    "start_time": "2024-12-18T04:11:40.353Z"
   },
   {
    "duration": 1248,
    "start_time": "2024-12-19T02:32:09.880Z"
   },
   {
    "duration": 29,
    "start_time": "2024-12-19T02:32:11.131Z"
   },
   {
    "duration": 14,
    "start_time": "2024-12-19T02:32:11.162Z"
   },
   {
    "duration": 10,
    "start_time": "2024-12-19T02:32:11.178Z"
   },
   {
    "duration": 10,
    "start_time": "2024-12-19T02:32:11.189Z"
   },
   {
    "duration": 2,
    "start_time": "2024-12-19T02:32:11.201Z"
   },
   {
    "duration": 4,
    "start_time": "2024-12-19T02:32:11.204Z"
   },
   {
    "duration": 38,
    "start_time": "2024-12-19T02:32:11.210Z"
   },
   {
    "duration": 6,
    "start_time": "2024-12-19T02:32:11.249Z"
   },
   {
    "duration": 6,
    "start_time": "2024-12-19T02:32:11.258Z"
   },
   {
    "duration": 3,
    "start_time": "2024-12-19T02:32:11.265Z"
   },
   {
    "duration": 6,
    "start_time": "2024-12-19T02:32:11.270Z"
   },
   {
    "duration": 5,
    "start_time": "2024-12-19T02:32:11.278Z"
   },
   {
    "duration": 212,
    "start_time": "2024-12-19T02:32:11.285Z"
   },
   {
    "duration": 571,
    "start_time": "2024-12-19T02:32:11.499Z"
   },
   {
    "duration": 7,
    "start_time": "2024-12-19T02:32:12.073Z"
   },
   {
    "duration": 214,
    "start_time": "2024-12-19T02:32:12.082Z"
   },
   {
    "duration": 4,
    "start_time": "2024-12-19T02:32:12.298Z"
   },
   {
    "duration": 140,
    "start_time": "2024-12-19T02:32:12.304Z"
   },
   {
    "duration": 9,
    "start_time": "2024-12-19T02:32:12.446Z"
   },
   {
    "duration": 13,
    "start_time": "2024-12-19T02:32:12.457Z"
   },
   {
    "duration": 11,
    "start_time": "2024-12-19T02:32:12.471Z"
   },
   {
    "duration": 224,
    "start_time": "2024-12-19T02:32:12.485Z"
   },
   {
    "duration": 5,
    "start_time": "2024-12-19T02:32:12.711Z"
   },
   {
    "duration": 6,
    "start_time": "2024-12-19T02:32:12.717Z"
   },
   {
    "duration": 24,
    "start_time": "2024-12-19T02:32:12.725Z"
   },
   {
    "duration": 1695,
    "start_time": "2024-12-19T02:32:12.751Z"
   },
   {
    "duration": 10,
    "start_time": "2024-12-19T02:32:14.450Z"
   }
  ],
  "kernelspec": {
   "display_name": "Python 3",
   "language": "python",
   "name": "python3"
  },
  "language_info": {
   "codemirror_mode": {
    "name": "ipython",
    "version": 3
   },
   "file_extension": ".py",
   "mimetype": "text/x-python",
   "name": "python",
   "nbconvert_exporter": "python",
   "pygments_lexer": "ipython3",
   "version": "3.12.3"
  },
  "toc": {
   "base_numbering": 1,
   "nav_menu": {},
   "number_sections": true,
   "sideBar": true,
   "skip_h1_title": true,
   "title_cell": "Table of Contents",
   "title_sidebar": "Contents",
   "toc_cell": false,
   "toc_position": {},
   "toc_section_display": true,
   "toc_window_display": false
  }
 },
 "nbformat": 4,
 "nbformat_minor": 2
}
